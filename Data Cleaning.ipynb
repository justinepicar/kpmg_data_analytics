{
 "cells": [
  {
   "cell_type": "code",
   "execution_count": 1,
   "metadata": {},
   "outputs": [],
   "source": [
    "import pandas as pd\n",
    "import numpy as np\n",
    "import matplotlib.pyplot as plt\n",
    "import seaborn as sns\n",
    "import datetime\n",
    "import xlrd"
   ]
  },
  {
   "cell_type": "code",
   "execution_count": 2,
   "metadata": {},
   "outputs": [],
   "source": [
    "xlsx = pd.ExcelFile('KPMG_VI_New_raw_data_update_final.xlsx')\n",
    "transactions = pd.read_excel(xlsx, 'Transactions', header=[1])\n",
    "new_customers = pd.read_excel(xlsx, 'NewCustomerList', header=[1])\n",
    "demographics = pd.read_excel(xlsx, 'CustomerDemographic', header=[1])\n",
    "address = pd.read_excel(xlsx, 'CustomerAddress', header=[1])"
   ]
  },
  {
   "cell_type": "markdown",
   "metadata": {},
   "source": [
    "Our goal for this task is to reformat the data based on our quality assessment in the last notebook. We won't impute the missing data for now as we still need to explore the data further for any relationships that we might miss."
   ]
  },
  {
   "cell_type": "markdown",
   "metadata": {},
   "source": [
    "# TRANSACTIONS"
   ]
  },
  {
   "cell_type": "code",
   "execution_count": 3,
   "metadata": {},
   "outputs": [
    {
     "data": {
      "text/html": [
       "<div>\n",
       "<style scoped>\n",
       "    .dataframe tbody tr th:only-of-type {\n",
       "        vertical-align: middle;\n",
       "    }\n",
       "\n",
       "    .dataframe tbody tr th {\n",
       "        vertical-align: top;\n",
       "    }\n",
       "\n",
       "    .dataframe thead th {\n",
       "        text-align: right;\n",
       "    }\n",
       "</style>\n",
       "<table border=\"1\" class=\"dataframe\">\n",
       "  <thead>\n",
       "    <tr style=\"text-align: right;\">\n",
       "      <th></th>\n",
       "      <th>0</th>\n",
       "      <th>1</th>\n",
       "      <th>2</th>\n",
       "      <th>3</th>\n",
       "      <th>4</th>\n",
       "    </tr>\n",
       "  </thead>\n",
       "  <tbody>\n",
       "    <tr>\n",
       "      <th>transaction_id</th>\n",
       "      <td>1</td>\n",
       "      <td>2</td>\n",
       "      <td>3</td>\n",
       "      <td>4</td>\n",
       "      <td>5</td>\n",
       "    </tr>\n",
       "    <tr>\n",
       "      <th>product_id</th>\n",
       "      <td>2</td>\n",
       "      <td>3</td>\n",
       "      <td>37</td>\n",
       "      <td>88</td>\n",
       "      <td>78</td>\n",
       "    </tr>\n",
       "    <tr>\n",
       "      <th>customer_id</th>\n",
       "      <td>2950</td>\n",
       "      <td>3120</td>\n",
       "      <td>402</td>\n",
       "      <td>3135</td>\n",
       "      <td>787</td>\n",
       "    </tr>\n",
       "    <tr>\n",
       "      <th>transaction_date</th>\n",
       "      <td>2017-02-25 00:00:00</td>\n",
       "      <td>2017-05-21 00:00:00</td>\n",
       "      <td>2017-10-16 00:00:00</td>\n",
       "      <td>2017-08-31 00:00:00</td>\n",
       "      <td>2017-10-01 00:00:00</td>\n",
       "    </tr>\n",
       "    <tr>\n",
       "      <th>online_order</th>\n",
       "      <td>0</td>\n",
       "      <td>1</td>\n",
       "      <td>0</td>\n",
       "      <td>0</td>\n",
       "      <td>1</td>\n",
       "    </tr>\n",
       "    <tr>\n",
       "      <th>order_status</th>\n",
       "      <td>Approved</td>\n",
       "      <td>Approved</td>\n",
       "      <td>Approved</td>\n",
       "      <td>Approved</td>\n",
       "      <td>Approved</td>\n",
       "    </tr>\n",
       "    <tr>\n",
       "      <th>brand</th>\n",
       "      <td>Solex</td>\n",
       "      <td>Trek Bicycles</td>\n",
       "      <td>OHM Cycles</td>\n",
       "      <td>Norco Bicycles</td>\n",
       "      <td>Giant Bicycles</td>\n",
       "    </tr>\n",
       "    <tr>\n",
       "      <th>product_line</th>\n",
       "      <td>Standard</td>\n",
       "      <td>Standard</td>\n",
       "      <td>Standard</td>\n",
       "      <td>Standard</td>\n",
       "      <td>Standard</td>\n",
       "    </tr>\n",
       "    <tr>\n",
       "      <th>product_class</th>\n",
       "      <td>medium</td>\n",
       "      <td>medium</td>\n",
       "      <td>low</td>\n",
       "      <td>medium</td>\n",
       "      <td>medium</td>\n",
       "    </tr>\n",
       "    <tr>\n",
       "      <th>product_size</th>\n",
       "      <td>medium</td>\n",
       "      <td>large</td>\n",
       "      <td>medium</td>\n",
       "      <td>medium</td>\n",
       "      <td>large</td>\n",
       "    </tr>\n",
       "    <tr>\n",
       "      <th>list_price</th>\n",
       "      <td>71.49</td>\n",
       "      <td>2091.47</td>\n",
       "      <td>1793.43</td>\n",
       "      <td>1198.46</td>\n",
       "      <td>1765.3</td>\n",
       "    </tr>\n",
       "    <tr>\n",
       "      <th>standard_cost</th>\n",
       "      <td>53.62</td>\n",
       "      <td>388.92</td>\n",
       "      <td>248.82</td>\n",
       "      <td>381.1</td>\n",
       "      <td>709.48</td>\n",
       "    </tr>\n",
       "    <tr>\n",
       "      <th>product_first_sold_date</th>\n",
       "      <td>41245</td>\n",
       "      <td>41701</td>\n",
       "      <td>36361</td>\n",
       "      <td>36145</td>\n",
       "      <td>42226</td>\n",
       "    </tr>\n",
       "  </tbody>\n",
       "</table>\n",
       "</div>"
      ],
      "text/plain": [
       "                                           0                    1  \\\n",
       "transaction_id                             1                    2   \n",
       "product_id                                 2                    3   \n",
       "customer_id                             2950                 3120   \n",
       "transaction_date         2017-02-25 00:00:00  2017-05-21 00:00:00   \n",
       "online_order                               0                    1   \n",
       "order_status                        Approved             Approved   \n",
       "brand                                  Solex        Trek Bicycles   \n",
       "product_line                        Standard             Standard   \n",
       "product_class                         medium               medium   \n",
       "product_size                          medium                large   \n",
       "list_price                             71.49              2091.47   \n",
       "standard_cost                          53.62               388.92   \n",
       "product_first_sold_date                41245                41701   \n",
       "\n",
       "                                           2                    3  \\\n",
       "transaction_id                             3                    4   \n",
       "product_id                                37                   88   \n",
       "customer_id                              402                 3135   \n",
       "transaction_date         2017-10-16 00:00:00  2017-08-31 00:00:00   \n",
       "online_order                               0                    0   \n",
       "order_status                        Approved             Approved   \n",
       "brand                             OHM Cycles       Norco Bicycles   \n",
       "product_line                        Standard             Standard   \n",
       "product_class                            low               medium   \n",
       "product_size                          medium               medium   \n",
       "list_price                           1793.43              1198.46   \n",
       "standard_cost                         248.82                381.1   \n",
       "product_first_sold_date                36361                36145   \n",
       "\n",
       "                                           4  \n",
       "transaction_id                             5  \n",
       "product_id                                78  \n",
       "customer_id                              787  \n",
       "transaction_date         2017-10-01 00:00:00  \n",
       "online_order                               1  \n",
       "order_status                        Approved  \n",
       "brand                         Giant Bicycles  \n",
       "product_line                        Standard  \n",
       "product_class                         medium  \n",
       "product_size                           large  \n",
       "list_price                            1765.3  \n",
       "standard_cost                         709.48  \n",
       "product_first_sold_date                42226  "
      ]
     },
     "execution_count": 3,
     "metadata": {},
     "output_type": "execute_result"
    }
   ],
   "source": [
    "transactions.head().T"
   ]
  },
  {
   "cell_type": "code",
   "execution_count": 4,
   "metadata": {
    "scrolled": true
   },
   "outputs": [
    {
     "name": "stdout",
     "output_type": "stream",
     "text": [
      "<class 'pandas.core.frame.DataFrame'>\n",
      "RangeIndex: 20000 entries, 0 to 19999\n",
      "Data columns (total 13 columns):\n",
      " #   Column                   Non-Null Count  Dtype         \n",
      "---  ------                   --------------  -----         \n",
      " 0   transaction_id           20000 non-null  int64         \n",
      " 1   product_id               20000 non-null  int64         \n",
      " 2   customer_id              20000 non-null  int64         \n",
      " 3   transaction_date         20000 non-null  datetime64[ns]\n",
      " 4   online_order             19640 non-null  float64       \n",
      " 5   order_status             20000 non-null  object        \n",
      " 6   brand                    19803 non-null  object        \n",
      " 7   product_line             19803 non-null  object        \n",
      " 8   product_class            19803 non-null  object        \n",
      " 9   product_size             19803 non-null  object        \n",
      " 10  list_price               20000 non-null  float64       \n",
      " 11  standard_cost            19803 non-null  float64       \n",
      " 12  product_first_sold_date  19803 non-null  float64       \n",
      "dtypes: datetime64[ns](1), float64(4), int64(3), object(5)\n",
      "memory usage: 2.0+ MB\n"
     ]
    }
   ],
   "source": [
    "transactions.info()"
   ]
  },
  {
   "cell_type": "markdown",
   "metadata": {},
   "source": [
    "We need to transform product_first_sold_date into a datetime type. First, we need to transform product_first_sold_date to an integer so that we can turn this into a datetime date type. Because we can't ignore null values when transforming an ordinal number to a datetime, we will have to iterate through"
   ]
  },
  {
   "cell_type": "code",
   "execution_count": 5,
   "metadata": {},
   "outputs": [],
   "source": [
    "transactions.product_first_sold_date = transactions.product_first_sold_date.astype('Int64')"
   ]
  },
  {
   "cell_type": "code",
   "execution_count": 6,
   "metadata": {
    "scrolled": false
   },
   "outputs": [],
   "source": [
    "product_first_sold_date_dt = []\n",
    "\n",
    "for i in transactions.product_first_sold_date.index:\n",
    "    if type(transactions.product_first_sold_date[i]) == np.int64:\n",
    "        new_dt = xlrd.xldate_as_datetime(transactions.product_first_sold_date[i], 0)\n",
    "        product_first_sold_date_dt.append(new_dt)\n",
    "    else:\n",
    "        product_first_sold_date_dt.append(transactions.product_first_sold_date[i])\n",
    "        \n",
    "transactions['product_first_sold_date'] = product_first_sold_date_dt"
   ]
  },
  {
   "cell_type": "code",
   "execution_count": 7,
   "metadata": {},
   "outputs": [
    {
     "name": "stdout",
     "output_type": "stream",
     "text": [
      "unique transaction_id: 20000\n",
      "unique product_id: 101\n",
      "unique customer_id: 3494\n",
      "unique transaction_date: 364\n",
      "unique online_order: 3\n",
      "unique order_status: 2\n",
      "unique brand: 7\n",
      "unique product_line: 5\n",
      "unique product_class: 4\n",
      "unique product_size: 4\n",
      "unique list_price: 296\n",
      "unique standard_cost: 104\n",
      "unique product_first_sold_date: 101\n"
     ]
    }
   ],
   "source": [
    "# check if features are unique for id and transaction dates\n",
    "features = transactions.iloc[:,:]\n",
    "\n",
    "for i in features.columns:\n",
    "    print(f'unique {i}: {len(features[i].unique())}')"
   ]
  },
  {
   "cell_type": "markdown",
   "metadata": {},
   "source": [
    "There do not seem to be any duplicate transaction ids. All other columns are okay and within range."
   ]
  },
  {
   "cell_type": "code",
   "execution_count": 8,
   "metadata": {},
   "outputs": [
    {
     "name": "stdout",
     "output_type": "stream",
     "text": [
      "missing in online_order: 360\n",
      "1.0    9829\n",
      "0.0    9811\n",
      "Name: online_order, dtype: int64\n",
      "\n",
      "missing in order_status: 0\n",
      "Approved     19821\n",
      "Cancelled      179\n",
      "Name: order_status, dtype: int64\n",
      "\n",
      "missing in brand: 197\n",
      "Solex             4253\n",
      "Giant Bicycles    3312\n",
      "WeareA2B          3295\n",
      "OHM Cycles        3043\n",
      "Trek Bicycles     2990\n",
      "Norco Bicycles    2910\n",
      "Name: brand, dtype: int64\n",
      "\n",
      "missing in product_line: 197\n",
      "Standard    14176\n",
      "Road         3970\n",
      "Touring      1234\n",
      "Mountain      423\n",
      "Name: product_line, dtype: int64\n",
      "\n",
      "missing in product_class: 197\n",
      "medium    13826\n",
      "high       3013\n",
      "low        2964\n",
      "Name: product_class, dtype: int64\n",
      "\n",
      "missing in product_size: 197\n",
      "medium    12990\n",
      "large      3976\n",
      "small      2837\n",
      "Name: product_size, dtype: int64\n",
      "\n",
      "missing in list_price: 0\n",
      "2091.47    465\n",
      "1403.50    396\n",
      "71.49      274\n",
      "1231.15    235\n",
      "1890.39    233\n",
      "          ... \n",
      "489.58       1\n",
      "1348.41      1\n",
      "883.91       1\n",
      "1220.66      1\n",
      "1142.89      1\n",
      "Name: list_price, Length: 296, dtype: int64\n",
      "\n",
      "missing in standard_cost: 197\n",
      "388.920000    465\n",
      "954.820000    396\n",
      "53.620000     274\n",
      "161.600000    235\n",
      "260.140000    233\n",
      "             ... \n",
      "151.960000    124\n",
      "206.350000    114\n",
      "270.299988      1\n",
      "667.400024      1\n",
      "312.735016      1\n",
      "Name: standard_cost, Length: 103, dtype: int64\n",
      "\n",
      "missing in product_first_sold_date: 197\n",
      "1992-10-02    234\n",
      "2012-06-04    229\n",
      "2003-07-21    227\n",
      "2009-03-08    222\n",
      "2004-08-17    220\n",
      "             ... \n",
      "2014-07-28    169\n",
      "2016-02-04    168\n",
      "2014-10-10    166\n",
      "2003-02-07    163\n",
      "1994-09-09    162\n",
      "Name: product_first_sold_date, Length: 100, dtype: int64\n",
      "\n"
     ]
    }
   ],
   "source": [
    "# check for missing values and count total values\n",
    "features = transactions.iloc[:,4:]\n",
    "\n",
    "for i in features.columns:\n",
    "    print(f'missing in {i}: {features[i].isna().sum()}')\n",
    "    print(f'{features[i].value_counts()}\\n')"
   ]
  },
  {
   "cell_type": "markdown",
   "metadata": {},
   "source": [
    "There are missing features, but these are all formatted correctly with unique variables. Let's check to see how many cancelled orders also have missing values in product line, class, size, cost, and brand. We can see that we have a list price and standard cost, but no column for profits. Let's create this now."
   ]
  },
  {
   "cell_type": "code",
   "execution_count": 9,
   "metadata": {},
   "outputs": [],
   "source": [
    "transactions['profit'] = round(transactions.list_price - transactions.standard_cost, 2)"
   ]
  },
  {
   "cell_type": "markdown",
   "metadata": {},
   "source": [
    "#### ORDER STATUS\n",
    "\n",
    "Change order status to a binary value"
   ]
  },
  {
   "cell_type": "code",
   "execution_count": 10,
   "metadata": {},
   "outputs": [],
   "source": [
    "transactions.loc[transactions.order_status == 'Approved', 'order_status'] = 1\n",
    "transactions.loc[transactions.order_status == 'Cancelled', 'order_status'] = 0"
   ]
  },
  {
   "cell_type": "markdown",
   "metadata": {},
   "source": [
    "# CURRENT CUSTOMERS"
   ]
  },
  {
   "cell_type": "code",
   "execution_count": 11,
   "metadata": {},
   "outputs": [
    {
     "data": {
      "text/html": [
       "<div>\n",
       "<style scoped>\n",
       "    .dataframe tbody tr th:only-of-type {\n",
       "        vertical-align: middle;\n",
       "    }\n",
       "\n",
       "    .dataframe tbody tr th {\n",
       "        vertical-align: top;\n",
       "    }\n",
       "\n",
       "    .dataframe thead th {\n",
       "        text-align: right;\n",
       "    }\n",
       "</style>\n",
       "<table border=\"1\" class=\"dataframe\">\n",
       "  <thead>\n",
       "    <tr style=\"text-align: right;\">\n",
       "      <th></th>\n",
       "      <th>0</th>\n",
       "      <th>1</th>\n",
       "      <th>2</th>\n",
       "      <th>3</th>\n",
       "      <th>4</th>\n",
       "    </tr>\n",
       "  </thead>\n",
       "  <tbody>\n",
       "    <tr>\n",
       "      <th>customer_id</th>\n",
       "      <td>1</td>\n",
       "      <td>2</td>\n",
       "      <td>3</td>\n",
       "      <td>4</td>\n",
       "      <td>5</td>\n",
       "    </tr>\n",
       "    <tr>\n",
       "      <th>first_name</th>\n",
       "      <td>Laraine</td>\n",
       "      <td>Eli</td>\n",
       "      <td>Arlin</td>\n",
       "      <td>Talbot</td>\n",
       "      <td>Sheila-kathryn</td>\n",
       "    </tr>\n",
       "    <tr>\n",
       "      <th>last_name</th>\n",
       "      <td>Medendorp</td>\n",
       "      <td>Bockman</td>\n",
       "      <td>Dearle</td>\n",
       "      <td>NaN</td>\n",
       "      <td>Calton</td>\n",
       "    </tr>\n",
       "    <tr>\n",
       "      <th>gender</th>\n",
       "      <td>F</td>\n",
       "      <td>Male</td>\n",
       "      <td>Male</td>\n",
       "      <td>Male</td>\n",
       "      <td>Female</td>\n",
       "    </tr>\n",
       "    <tr>\n",
       "      <th>past_3_years_bike_related_purchases</th>\n",
       "      <td>93</td>\n",
       "      <td>81</td>\n",
       "      <td>61</td>\n",
       "      <td>33</td>\n",
       "      <td>56</td>\n",
       "    </tr>\n",
       "    <tr>\n",
       "      <th>DOB</th>\n",
       "      <td>1953-10-12 00:00:00</td>\n",
       "      <td>1980-12-16 00:00:00</td>\n",
       "      <td>1954-01-20 00:00:00</td>\n",
       "      <td>1961-10-03 00:00:00</td>\n",
       "      <td>1977-05-13 00:00:00</td>\n",
       "    </tr>\n",
       "    <tr>\n",
       "      <th>job_title</th>\n",
       "      <td>Executive Secretary</td>\n",
       "      <td>Administrative Officer</td>\n",
       "      <td>Recruiting Manager</td>\n",
       "      <td>NaN</td>\n",
       "      <td>Senior Editor</td>\n",
       "    </tr>\n",
       "    <tr>\n",
       "      <th>job_industry_category</th>\n",
       "      <td>Health</td>\n",
       "      <td>Financial Services</td>\n",
       "      <td>Property</td>\n",
       "      <td>IT</td>\n",
       "      <td>NaN</td>\n",
       "    </tr>\n",
       "    <tr>\n",
       "      <th>wealth_segment</th>\n",
       "      <td>Mass Customer</td>\n",
       "      <td>Mass Customer</td>\n",
       "      <td>Mass Customer</td>\n",
       "      <td>Mass Customer</td>\n",
       "      <td>Affluent Customer</td>\n",
       "    </tr>\n",
       "    <tr>\n",
       "      <th>deceased_indicator</th>\n",
       "      <td>N</td>\n",
       "      <td>N</td>\n",
       "      <td>N</td>\n",
       "      <td>N</td>\n",
       "      <td>N</td>\n",
       "    </tr>\n",
       "    <tr>\n",
       "      <th>default</th>\n",
       "      <td>\"'</td>\n",
       "      <td>&lt;script&gt;alert('hi')&lt;/script&gt;</td>\n",
       "      <td>2018-02-01 00:00:00</td>\n",
       "      <td>() { _; } &gt;_[$($())] { touch /tmp/blns.shellsh...</td>\n",
       "      <td>NIL</td>\n",
       "    </tr>\n",
       "    <tr>\n",
       "      <th>owns_car</th>\n",
       "      <td>Yes</td>\n",
       "      <td>Yes</td>\n",
       "      <td>Yes</td>\n",
       "      <td>No</td>\n",
       "      <td>Yes</td>\n",
       "    </tr>\n",
       "    <tr>\n",
       "      <th>tenure</th>\n",
       "      <td>11</td>\n",
       "      <td>16</td>\n",
       "      <td>15</td>\n",
       "      <td>7</td>\n",
       "      <td>8</td>\n",
       "    </tr>\n",
       "  </tbody>\n",
       "</table>\n",
       "</div>"
      ],
      "text/plain": [
       "                                                       0  \\\n",
       "customer_id                                            1   \n",
       "first_name                                       Laraine   \n",
       "last_name                                      Medendorp   \n",
       "gender                                                 F   \n",
       "past_3_years_bike_related_purchases                   93   \n",
       "DOB                                  1953-10-12 00:00:00   \n",
       "job_title                            Executive Secretary   \n",
       "job_industry_category                             Health   \n",
       "wealth_segment                             Mass Customer   \n",
       "deceased_indicator                                     N   \n",
       "default                                               \"'   \n",
       "owns_car                                             Yes   \n",
       "tenure                                                11   \n",
       "\n",
       "                                                                1  \\\n",
       "customer_id                                                     2   \n",
       "first_name                                                    Eli   \n",
       "last_name                                                 Bockman   \n",
       "gender                                                       Male   \n",
       "past_3_years_bike_related_purchases                            81   \n",
       "DOB                                           1980-12-16 00:00:00   \n",
       "job_title                                  Administrative Officer   \n",
       "job_industry_category                          Financial Services   \n",
       "wealth_segment                                      Mass Customer   \n",
       "deceased_indicator                                              N   \n",
       "default                              <script>alert('hi')</script>   \n",
       "owns_car                                                      Yes   \n",
       "tenure                                                         16   \n",
       "\n",
       "                                                       2  \\\n",
       "customer_id                                            3   \n",
       "first_name                                         Arlin   \n",
       "last_name                                         Dearle   \n",
       "gender                                              Male   \n",
       "past_3_years_bike_related_purchases                   61   \n",
       "DOB                                  1954-01-20 00:00:00   \n",
       "job_title                             Recruiting Manager   \n",
       "job_industry_category                           Property   \n",
       "wealth_segment                             Mass Customer   \n",
       "deceased_indicator                                     N   \n",
       "default                              2018-02-01 00:00:00   \n",
       "owns_car                                             Yes   \n",
       "tenure                                                15   \n",
       "\n",
       "                                                                                     3  \\\n",
       "customer_id                                                                          4   \n",
       "first_name                                                                      Talbot   \n",
       "last_name                                                                          NaN   \n",
       "gender                                                                            Male   \n",
       "past_3_years_bike_related_purchases                                                 33   \n",
       "DOB                                                                1961-10-03 00:00:00   \n",
       "job_title                                                                          NaN   \n",
       "job_industry_category                                                               IT   \n",
       "wealth_segment                                                           Mass Customer   \n",
       "deceased_indicator                                                                   N   \n",
       "default                              () { _; } >_[$($())] { touch /tmp/blns.shellsh...   \n",
       "owns_car                                                                            No   \n",
       "tenure                                                                               7   \n",
       "\n",
       "                                                       4  \n",
       "customer_id                                            5  \n",
       "first_name                                Sheila-kathryn  \n",
       "last_name                                         Calton  \n",
       "gender                                            Female  \n",
       "past_3_years_bike_related_purchases                   56  \n",
       "DOB                                  1977-05-13 00:00:00  \n",
       "job_title                                  Senior Editor  \n",
       "job_industry_category                                NaN  \n",
       "wealth_segment                         Affluent Customer  \n",
       "deceased_indicator                                     N  \n",
       "default                                              NIL  \n",
       "owns_car                                             Yes  \n",
       "tenure                                                 8  "
      ]
     },
     "execution_count": 11,
     "metadata": {},
     "output_type": "execute_result"
    }
   ],
   "source": [
    "demographics.head().T"
   ]
  },
  {
   "cell_type": "markdown",
   "metadata": {},
   "source": [
    "Immediately we can see that default is an irrelevant column and can be dropped, reformat the gender column to a consistent naming convention, and ensure that all date of births are within a reasonable range and makes sense with the rest of the data."
   ]
  },
  {
   "cell_type": "code",
   "execution_count": 12,
   "metadata": {},
   "outputs": [],
   "source": [
    "# drop default\n",
    "demographics.drop('default', axis=1, inplace=True)"
   ]
  },
  {
   "cell_type": "code",
   "execution_count": 13,
   "metadata": {},
   "outputs": [
    {
     "name": "stdout",
     "output_type": "stream",
     "text": [
      "Earliest DOB: 1843-12-21 00:00:00\n",
      "Latest DOB: 2002-03-11 00:00:00\n"
     ]
    }
   ],
   "source": [
    "print(f'Earliest DOB: {min(demographics.DOB)}')\n",
    "print(f'Latest DOB: {max(demographics.DOB)}')"
   ]
  },
  {
   "cell_type": "code",
   "execution_count": 14,
   "metadata": {},
   "outputs": [],
   "source": [
    "# drop the column with Year of Birth, 1843\n",
    "demographics[demographics.DOB == datetime.datetime(1843, 12, 21, 0, 0)]\n",
    "\n",
    "demographics.drop(33, axis=0, inplace=True)\n",
    "demographics.reset_index(drop=True, inplace=True)"
   ]
  },
  {
   "cell_type": "code",
   "execution_count": 15,
   "metadata": {},
   "outputs": [
    {
     "name": "stdout",
     "output_type": "stream",
     "text": [
      "unique customer_id: 3999\n"
     ]
    }
   ],
   "source": [
    "features = demographics.iloc[:,0]\n",
    "print(f'unique customer_id: {len(features.unique())}')"
   ]
  },
  {
   "cell_type": "code",
   "execution_count": 16,
   "metadata": {},
   "outputs": [
    {
     "data": {
      "text/plain": [
       "array([   1,    2,    3, ..., 3998, 3999, 4000], dtype=int64)"
      ]
     },
     "execution_count": 16,
     "metadata": {},
     "output_type": "execute_result"
    }
   ],
   "source": [
    "# look at range of customer ids\n",
    "demographics.customer_id.unique()"
   ]
  },
  {
   "cell_type": "code",
   "execution_count": 17,
   "metadata": {
    "scrolled": false
   },
   "outputs": [
    {
     "name": "stdout",
     "output_type": "stream",
     "text": [
      "Female    2037\n",
      "Male      1872\n",
      "U           87\n",
      "F            1\n",
      "M            1\n",
      "Femal        1\n",
      "Name: gender, dtype: int64\n",
      "missing/is null gender: 0\n",
      "\n",
      "Business Systems Development Analyst    45\n",
      "Tax Accountant                          44\n",
      "Social Worker                           44\n",
      "Internal Auditor                        42\n",
      "Recruiting Manager                      41\n",
      "                                        ..\n",
      "Computer Systems Analyst III             4\n",
      "Health Coach I                           3\n",
      "Research Assistant III                   3\n",
      "Health Coach III                         3\n",
      "Developer I                              1\n",
      "Name: job_title, Length: 195, dtype: int64\n",
      "missing/is null job_title: 506\n",
      "\n",
      "Manufacturing         799\n",
      "Financial Services    774\n",
      "Health                602\n",
      "Retail                358\n",
      "Property              267\n",
      "IT                    222\n",
      "Entertainment         136\n",
      "Argiculture           113\n",
      "Telecommunications     72\n",
      "Name: job_industry_category, dtype: int64\n",
      "missing/is null job_industry_category: 656\n",
      "\n",
      "Mass Customer        2000\n",
      "High Net Worth       1021\n",
      "Affluent Customer     978\n",
      "Name: wealth_segment, dtype: int64\n",
      "missing/is null wealth_segment: 0\n",
      "\n",
      "N    3997\n",
      "Y       2\n",
      "Name: deceased_indicator, dtype: int64\n",
      "missing/is null deceased_indicator: 0\n",
      "\n",
      "7.0     235\n",
      "5.0     228\n",
      "11.0    221\n",
      "10.0    218\n",
      "16.0    215\n",
      "8.0     211\n",
      "18.0    208\n",
      "12.0    202\n",
      "9.0     200\n",
      "14.0    200\n",
      "6.0     192\n",
      "13.0    191\n",
      "4.0     191\n",
      "17.0    182\n",
      "15.0    179\n",
      "1.0     166\n",
      "3.0     160\n",
      "19.0    159\n",
      "2.0     150\n",
      "20.0     95\n",
      "22.0     55\n",
      "21.0     54\n",
      "Name: tenure, dtype: int64\n",
      "missing/is null tenure: 87\n",
      "\n"
     ]
    }
   ],
   "source": [
    "features = demographics.iloc[:,[3, 6, 7, 8, 9, 11]]\n",
    "for i in features.columns:\n",
    "    print(f'{features[i].value_counts()}')\n",
    "    print(f'missing/is null {i}: {features[i].isna().sum()}\\n')"
   ]
  },
  {
   "cell_type": "markdown",
   "metadata": {},
   "source": [
    "### REFORMATTING AND BINNING"
   ]
  },
  {
   "cell_type": "code",
   "execution_count": 18,
   "metadata": {},
   "outputs": [],
   "source": [
    "# reformat gender\n",
    "demographics.loc[demographics.gender == 'F', 'gender'] = 'Female'\n",
    "demographics.loc[demographics.gender == 'Femal', 'gender'] = 'Female'\n",
    "demographics.loc[demographics.gender == 'M', 'gender'] = 'Male'"
   ]
  },
  {
   "cell_type": "markdown",
   "metadata": {},
   "source": [
    "#### TENURE"
   ]
  },
  {
   "cell_type": "markdown",
   "metadata": {},
   "source": [
    "Let's simplify tenure, by binning the values. Based on the IQR range, we can break up the data in increments of 5 years."
   ]
  },
  {
   "cell_type": "code",
   "execution_count": 19,
   "metadata": {},
   "outputs": [
    {
     "data": {
      "text/html": [
       "<div>\n",
       "<style scoped>\n",
       "    .dataframe tbody tr th:only-of-type {\n",
       "        vertical-align: middle;\n",
       "    }\n",
       "\n",
       "    .dataframe tbody tr th {\n",
       "        vertical-align: top;\n",
       "    }\n",
       "\n",
       "    .dataframe thead th {\n",
       "        text-align: right;\n",
       "    }\n",
       "</style>\n",
       "<table border=\"1\" class=\"dataframe\">\n",
       "  <thead>\n",
       "    <tr style=\"text-align: right;\">\n",
       "      <th></th>\n",
       "      <th>count</th>\n",
       "      <th>mean</th>\n",
       "      <th>std</th>\n",
       "      <th>min</th>\n",
       "      <th>25%</th>\n",
       "      <th>50%</th>\n",
       "      <th>75%</th>\n",
       "      <th>max</th>\n",
       "    </tr>\n",
       "  </thead>\n",
       "  <tbody>\n",
       "    <tr>\n",
       "      <th>customer_id</th>\n",
       "      <td>3999.0</td>\n",
       "      <td>2000.991748</td>\n",
       "      <td>1154.570372</td>\n",
       "      <td>1.0</td>\n",
       "      <td>1001.5</td>\n",
       "      <td>2001.0</td>\n",
       "      <td>3000.5</td>\n",
       "      <td>4000.0</td>\n",
       "    </tr>\n",
       "    <tr>\n",
       "      <th>past_3_years_bike_related_purchases</th>\n",
       "      <td>3999.0</td>\n",
       "      <td>48.887472</td>\n",
       "      <td>28.718151</td>\n",
       "      <td>0.0</td>\n",
       "      <td>24.0</td>\n",
       "      <td>48.0</td>\n",
       "      <td>73.0</td>\n",
       "      <td>99.0</td>\n",
       "    </tr>\n",
       "    <tr>\n",
       "      <th>tenure</th>\n",
       "      <td>3912.0</td>\n",
       "      <td>10.654652</td>\n",
       "      <td>5.658898</td>\n",
       "      <td>1.0</td>\n",
       "      <td>6.0</td>\n",
       "      <td>11.0</td>\n",
       "      <td>15.0</td>\n",
       "      <td>22.0</td>\n",
       "    </tr>\n",
       "  </tbody>\n",
       "</table>\n",
       "</div>"
      ],
      "text/plain": [
       "                                      count         mean          std  min  \\\n",
       "customer_id                          3999.0  2000.991748  1154.570372  1.0   \n",
       "past_3_years_bike_related_purchases  3999.0    48.887472    28.718151  0.0   \n",
       "tenure                               3912.0    10.654652     5.658898  1.0   \n",
       "\n",
       "                                        25%     50%     75%     max  \n",
       "customer_id                          1001.5  2001.0  3000.5  4000.0  \n",
       "past_3_years_bike_related_purchases    24.0    48.0    73.0    99.0  \n",
       "tenure                                  6.0    11.0    15.0    22.0  "
      ]
     },
     "execution_count": 19,
     "metadata": {},
     "output_type": "execute_result"
    }
   ],
   "source": [
    "demographics.describe().T"
   ]
  },
  {
   "cell_type": "code",
   "execution_count": 20,
   "metadata": {},
   "outputs": [
    {
     "data": {
      "image/png": "[encoded data removed]",
      "text/plain": [
       "<Figure size 432x288 with 1 Axes>"
      ]
     },
     "metadata": {
      "needs_background": "light"
     },
     "output_type": "display_data"
    }
   ],
   "source": [
    "sns.histplot(data=demographics, x='tenure')\n",
    "plt.show()"
   ]
  },
  {
   "cell_type": "code",
   "execution_count": 21,
   "metadata": {},
   "outputs": [
    {
     "data": {
      "image/png": "[encoded data removed]",
      "text/plain": [
       "<Figure size 432x288 with 1 Axes>"
      ]
     },
     "metadata": {
      "needs_background": "light"
     },
     "output_type": "display_data"
    }
   ],
   "source": [
    "# create bins and labels\n",
    "bins = [0, 5, 10, 15, 20, 25]\n",
    "labels = ['0-5 years','6-10 years','11-15 years','16-20 years','21-25 years']\n",
    "#bin data\n",
    "demographics['tenure'] = pd.cut(demographics['tenure'] , bins=bins, labels=labels, include_lowest=True)\n",
    "\n",
    "sns.countplot(data = demographics, x='tenure')\n",
    "plt.show()"
   ]
  },
  {
   "cell_type": "markdown",
   "metadata": {},
   "source": [
    "#### AGE\n",
    "\n",
    "We can also simplify date of births by looking at ages and binning the values into grouped sets of customers. We know that transactions were made in the year 2017 so we can subtract the date of birth from this year."
   ]
  },
  {
   "cell_type": "code",
   "execution_count": 22,
   "metadata": {},
   "outputs": [],
   "source": [
    "#find the age of each customer at time of purchase\n",
    "#initialize a column in demographics called 'age'\n",
    "demographics['age'] = np.nan\n",
    "\n",
    "for i in demographics.index:\n",
    "    age = 2017 - demographics.DOB[i].year\n",
    "    demographics.loc[i, 'age'] = age\n",
    "\n",
    "#change dtype to int\n",
    "demographics.age = demographics.age.astype('Int64')\n",
    "\n",
    "# create bins and labels for increments of 10 years\n",
    "bins = [0, 20, 30, 40, 50, 60, 70, 90]\n",
    "labels = ['20 and younger','21-30 years old','31-40 years old','41-50 years old','51-60 years old',\n",
    "          '61-70 years old','70 and up']\n",
    "# bin data\n",
    "demographics['age'] = pd.cut(demographics['age'] , bins=bins, labels=labels, include_lowest=True)"
   ]
  },
  {
   "cell_type": "code",
   "execution_count": 23,
   "metadata": {
    "scrolled": true
   },
   "outputs": [
    {
     "data": {
      "image/png": "[encoded data removed]",
      "text/plain": [
       "<Figure size 432x288 with 1 Axes>"
      ]
     },
     "metadata": {
      "needs_background": "light"
     },
     "output_type": "display_data"
    }
   ],
   "source": [
    "sns.countplot(data=demographics, y='age')\n",
    "plt.show()"
   ]
  },
  {
   "cell_type": "markdown",
   "metadata": {},
   "source": [
    "Since we grouped tenure and age, we can drop specific Date of Births."
   ]
  },
  {
   "cell_type": "code",
   "execution_count": 24,
   "metadata": {},
   "outputs": [],
   "source": [
    "# drop DOB\n",
    "demographics.drop('DOB', axis=1, inplace=True)"
   ]
  },
  {
   "cell_type": "markdown",
   "metadata": {},
   "source": [
    "#### deceased_indicator and owns_car\n",
    "\n",
    "Let's convert these to binary values"
   ]
  },
  {
   "cell_type": "code",
   "execution_count": 25,
   "metadata": {},
   "outputs": [],
   "source": [
    "demographics.loc[demographics.deceased_indicator == 'Y', 'deceased_indicator'] = 1\n",
    "demographics.loc[demographics.deceased_indicator == 'N', 'deceased_indicator'] = 0"
   ]
  },
  {
   "cell_type": "code",
   "execution_count": 26,
   "metadata": {},
   "outputs": [],
   "source": [
    "demographics.loc[demographics.owns_car == 'Yes', 'owns_car'] = 1\n",
    "demographics.loc[demographics.owns_car == 'No', 'owns_car'] = 0"
   ]
  },
  {
   "cell_type": "markdown",
   "metadata": {},
   "source": [
    "# ADDRESS"
   ]
  },
  {
   "cell_type": "code",
   "execution_count": 27,
   "metadata": {
    "scrolled": true
   },
   "outputs": [
    {
     "data": {
      "text/html": [
       "<div>\n",
       "<style scoped>\n",
       "    .dataframe tbody tr th:only-of-type {\n",
       "        vertical-align: middle;\n",
       "    }\n",
       "\n",
       "    .dataframe tbody tr th {\n",
       "        vertical-align: top;\n",
       "    }\n",
       "\n",
       "    .dataframe thead th {\n",
       "        text-align: right;\n",
       "    }\n",
       "</style>\n",
       "<table border=\"1\" class=\"dataframe\">\n",
       "  <thead>\n",
       "    <tr style=\"text-align: right;\">\n",
       "      <th></th>\n",
       "      <th>customer_id</th>\n",
       "      <th>address</th>\n",
       "      <th>postcode</th>\n",
       "      <th>state</th>\n",
       "      <th>country</th>\n",
       "      <th>property_valuation</th>\n",
       "    </tr>\n",
       "  </thead>\n",
       "  <tbody>\n",
       "    <tr>\n",
       "      <th>0</th>\n",
       "      <td>1</td>\n",
       "      <td>060 Morning Avenue</td>\n",
       "      <td>2016</td>\n",
       "      <td>New South Wales</td>\n",
       "      <td>Australia</td>\n",
       "      <td>10</td>\n",
       "    </tr>\n",
       "    <tr>\n",
       "      <th>1</th>\n",
       "      <td>2</td>\n",
       "      <td>6 Meadow Vale Court</td>\n",
       "      <td>2153</td>\n",
       "      <td>New South Wales</td>\n",
       "      <td>Australia</td>\n",
       "      <td>10</td>\n",
       "    </tr>\n",
       "    <tr>\n",
       "      <th>2</th>\n",
       "      <td>4</td>\n",
       "      <td>0 Holy Cross Court</td>\n",
       "      <td>4211</td>\n",
       "      <td>QLD</td>\n",
       "      <td>Australia</td>\n",
       "      <td>9</td>\n",
       "    </tr>\n",
       "    <tr>\n",
       "      <th>3</th>\n",
       "      <td>5</td>\n",
       "      <td>17979 Del Mar Point</td>\n",
       "      <td>2448</td>\n",
       "      <td>New South Wales</td>\n",
       "      <td>Australia</td>\n",
       "      <td>4</td>\n",
       "    </tr>\n",
       "    <tr>\n",
       "      <th>4</th>\n",
       "      <td>6</td>\n",
       "      <td>9 Oakridge Court</td>\n",
       "      <td>3216</td>\n",
       "      <td>VIC</td>\n",
       "      <td>Australia</td>\n",
       "      <td>9</td>\n",
       "    </tr>\n",
       "  </tbody>\n",
       "</table>\n",
       "</div>"
      ],
      "text/plain": [
       "   customer_id              address  postcode            state    country  \\\n",
       "0            1   060 Morning Avenue      2016  New South Wales  Australia   \n",
       "1            2  6 Meadow Vale Court      2153  New South Wales  Australia   \n",
       "2            4   0 Holy Cross Court      4211              QLD  Australia   \n",
       "3            5  17979 Del Mar Point      2448  New South Wales  Australia   \n",
       "4            6     9 Oakridge Court      3216              VIC  Australia   \n",
       "\n",
       "   property_valuation  \n",
       "0                  10  \n",
       "1                  10  \n",
       "2                   9  \n",
       "3                   4  \n",
       "4                   9  "
      ]
     },
     "execution_count": 27,
     "metadata": {},
     "output_type": "execute_result"
    }
   ],
   "source": [
    "address.head()"
   ]
  },
  {
   "cell_type": "code",
   "execution_count": 28,
   "metadata": {},
   "outputs": [
    {
     "name": "stdout",
     "output_type": "stream",
     "text": [
      "<class 'pandas.core.frame.DataFrame'>\n",
      "RangeIndex: 3999 entries, 0 to 3998\n",
      "Data columns (total 6 columns):\n",
      " #   Column              Non-Null Count  Dtype \n",
      "---  ------              --------------  ----- \n",
      " 0   customer_id         3999 non-null   int64 \n",
      " 1   address             3999 non-null   object\n",
      " 2   postcode            3999 non-null   int64 \n",
      " 3   state               3999 non-null   object\n",
      " 4   country             3999 non-null   object\n",
      " 5   property_valuation  3999 non-null   int64 \n",
      "dtypes: int64(3), object(3)\n",
      "memory usage: 187.6+ KB\n"
     ]
    }
   ],
   "source": [
    "address.info()"
   ]
  },
  {
   "cell_type": "markdown",
   "metadata": {},
   "source": [
    "Because there are so many unique postcodes, let's group these based on levels of remoteness. According to the Australian Bureau of Statistics, levels of remoteness are defined as the following:\n",
    "\n",
    "- Major Cities of Australia\n",
    "- Inner Regional Australia\n",
    "- Outer Regional Australia\n",
    "- Remote Australia\n",
    "- Very Remote Australia\n",
    "\n",
    "Remoteness is calculated using the Accessibility and Remoteness Index of Australia (ARIA+). ARIA+ is derived by measuring the road distance from a point to the nearest Urban Centres and Localities in five separate population ranges. For more information, please read about Defining Remote Areas on the ABS website [here](https://www.abs.gov.au/ausstats/abs@.nsf/Latestproducts/1270.0.55.005Main%20Features15July%202016?opendocument&tabname=Summary&prodno=1270.0.55.005&issue=July%202016&num=&view=).\n",
    "\n",
    "We will need to download the 2017 Postcode to 2016 Remoteness Census Area Conversion."
   ]
  },
  {
   "cell_type": "markdown",
   "metadata": {},
   "source": [
    "### GROUP BY REMOTENESS INDEX"
   ]
  },
  {
   "cell_type": "code",
   "execution_count": 29,
   "metadata": {},
   "outputs": [],
   "source": [
    "# read in the ABS file\n",
    "xlsx = pd.ExcelFile('ABS_postcode_2017_ra_2016\\CG_POSTCODE_2017_RA_2016.xlsx')\n",
    "remoteness = pd.read_excel(xlsx, 'Table 3', header=[5])"
   ]
  },
  {
   "cell_type": "code",
   "execution_count": 30,
   "metadata": {},
   "outputs": [
    {
     "data": {
      "text/html": [
       "<div>\n",
       "<style scoped>\n",
       "    .dataframe tbody tr th:only-of-type {\n",
       "        vertical-align: middle;\n",
       "    }\n",
       "\n",
       "    .dataframe tbody tr th {\n",
       "        vertical-align: top;\n",
       "    }\n",
       "\n",
       "    .dataframe thead th {\n",
       "        text-align: right;\n",
       "    }\n",
       "</style>\n",
       "<table border=\"1\" class=\"dataframe\">\n",
       "  <thead>\n",
       "    <tr style=\"text-align: right;\">\n",
       "      <th></th>\n",
       "      <th>POSTCODE_2017</th>\n",
       "      <th>POSTCODE_2017.1</th>\n",
       "      <th>RA_CODE_2016</th>\n",
       "      <th>RA_NAME_2016</th>\n",
       "      <th>RATIO</th>\n",
       "      <th>PERCENTAGE</th>\n",
       "    </tr>\n",
       "  </thead>\n",
       "  <tbody>\n",
       "    <tr>\n",
       "      <th>0</th>\n",
       "      <td>NaN</td>\n",
       "      <td>NaN</td>\n",
       "      <td>NaN</td>\n",
       "      <td>NaN</td>\n",
       "      <td>NaN</td>\n",
       "      <td>NaN</td>\n",
       "    </tr>\n",
       "    <tr>\n",
       "      <th>1</th>\n",
       "      <td>0800</td>\n",
       "      <td>800.0</td>\n",
       "      <td>72.0</td>\n",
       "      <td>Outer Regional Australia</td>\n",
       "      <td>1.0</td>\n",
       "      <td>100.0</td>\n",
       "    </tr>\n",
       "    <tr>\n",
       "      <th>2</th>\n",
       "      <td>0810</td>\n",
       "      <td>810.0</td>\n",
       "      <td>72.0</td>\n",
       "      <td>Outer Regional Australia</td>\n",
       "      <td>1.0</td>\n",
       "      <td>100.0</td>\n",
       "    </tr>\n",
       "    <tr>\n",
       "      <th>3</th>\n",
       "      <td>0812</td>\n",
       "      <td>812.0</td>\n",
       "      <td>72.0</td>\n",
       "      <td>Outer Regional Australia</td>\n",
       "      <td>1.0</td>\n",
       "      <td>100.0</td>\n",
       "    </tr>\n",
       "    <tr>\n",
       "      <th>4</th>\n",
       "      <td>0815</td>\n",
       "      <td>815.0</td>\n",
       "      <td>72.0</td>\n",
       "      <td>Outer Regional Australia</td>\n",
       "      <td>1.0</td>\n",
       "      <td>100.0</td>\n",
       "    </tr>\n",
       "  </tbody>\n",
       "</table>\n",
       "</div>"
      ],
      "text/plain": [
       "  POSTCODE_2017  POSTCODE_2017.1  RA_CODE_2016              RA_NAME_2016  \\\n",
       "0           NaN              NaN           NaN                       NaN   \n",
       "1          0800            800.0          72.0  Outer Regional Australia   \n",
       "2          0810            810.0          72.0  Outer Regional Australia   \n",
       "3          0812            812.0          72.0  Outer Regional Australia   \n",
       "4          0815            815.0          72.0  Outer Regional Australia   \n",
       "\n",
       "   RATIO  PERCENTAGE  \n",
       "0    NaN         NaN  \n",
       "1    1.0       100.0  \n",
       "2    1.0       100.0  \n",
       "3    1.0       100.0  \n",
       "4    1.0       100.0  "
      ]
     },
     "execution_count": 30,
     "metadata": {},
     "output_type": "execute_result"
    }
   ],
   "source": [
    "remoteness.head()"
   ]
  },
  {
   "cell_type": "code",
   "execution_count": 31,
   "metadata": {},
   "outputs": [
    {
     "name": "stdout",
     "output_type": "stream",
     "text": [
      "<class 'pandas.core.frame.DataFrame'>\n",
      "RangeIndex: 54854 entries, 0 to 54853\n",
      "Data columns (total 6 columns):\n",
      " #   Column           Non-Null Count  Dtype  \n",
      "---  ------           --------------  -----  \n",
      " 0   POSTCODE_2017    3182 non-null   object \n",
      " 1   POSTCODE_2017.1  3181 non-null   float64\n",
      " 2   RA_CODE_2016     3181 non-null   float64\n",
      " 3   RA_NAME_2016     3181 non-null   object \n",
      " 4   RATIO            3181 non-null   float64\n",
      " 5   PERCENTAGE       3181 non-null   float64\n",
      "dtypes: float64(4), object(2)\n",
      "memory usage: 2.5+ MB\n"
     ]
    }
   ],
   "source": [
    "remoteness.info()"
   ]
  },
  {
   "cell_type": "code",
   "execution_count": 32,
   "metadata": {},
   "outputs": [],
   "source": [
    "# drop the NaN value\n",
    "remoteness.drop(0, axis=0, inplace=True)\n",
    "remoteness.reset_index(drop=True, inplace=True)\n",
    "\n",
    "# drop the duplicate postcode, the RA code, and ratio as this is just a duplicate of percentage\n",
    "remoteness.drop(['POSTCODE_2017.1', 'RA_CODE_2016', 'RATIO'], axis=1, inplace=True)"
   ]
  },
  {
   "cell_type": "code",
   "execution_count": 33,
   "metadata": {},
   "outputs": [
    {
     "data": {
      "text/plain": [
       "2620    4\n",
       "2611    4\n",
       "4741    4\n",
       "0872    4\n",
       "4872    3\n",
       "       ..\n",
       "4707    1\n",
       "4706    1\n",
       "4705    1\n",
       "4699    1\n",
       "0837    1\n",
       "Name: POSTCODE_2017, Length: 2672, dtype: int64"
      ]
     },
     "execution_count": 33,
     "metadata": {},
     "output_type": "execute_result"
    }
   ],
   "source": [
    "# check if there are duplicate postcodes\n",
    "remoteness.POSTCODE_2017.value_counts()"
   ]
  },
  {
   "cell_type": "code",
   "execution_count": 34,
   "metadata": {},
   "outputs": [
    {
     "data": {
      "text/html": [
       "<div>\n",
       "<style scoped>\n",
       "    .dataframe tbody tr th:only-of-type {\n",
       "        vertical-align: middle;\n",
       "    }\n",
       "\n",
       "    .dataframe tbody tr th {\n",
       "        vertical-align: top;\n",
       "    }\n",
       "\n",
       "    .dataframe thead th {\n",
       "        text-align: right;\n",
       "    }\n",
       "</style>\n",
       "<table border=\"1\" class=\"dataframe\">\n",
       "  <thead>\n",
       "    <tr style=\"text-align: right;\">\n",
       "      <th></th>\n",
       "      <th>POSTCODE_2017</th>\n",
       "      <th>RA_NAME_2016</th>\n",
       "      <th>PERCENTAGE</th>\n",
       "    </tr>\n",
       "  </thead>\n",
       "  <tbody>\n",
       "    <tr>\n",
       "      <th>2091</th>\n",
       "      <td>4741</td>\n",
       "      <td>Inner Regional Australia</td>\n",
       "      <td>7.213018</td>\n",
       "    </tr>\n",
       "    <tr>\n",
       "      <th>2092</th>\n",
       "      <td>4741</td>\n",
       "      <td>Outer Regional Australia</td>\n",
       "      <td>90.592145</td>\n",
       "    </tr>\n",
       "    <tr>\n",
       "      <th>2093</th>\n",
       "      <td>4741</td>\n",
       "      <td>Remote Australia</td>\n",
       "      <td>2.109869</td>\n",
       "    </tr>\n",
       "    <tr>\n",
       "      <th>2094</th>\n",
       "      <td>4741</td>\n",
       "      <td>Very Remote Australia</td>\n",
       "      <td>0.084968</td>\n",
       "    </tr>\n",
       "  </tbody>\n",
       "</table>\n",
       "</div>"
      ],
      "text/plain": [
       "     POSTCODE_2017              RA_NAME_2016  PERCENTAGE\n",
       "2091          4741  Inner Regional Australia    7.213018\n",
       "2092          4741  Outer Regional Australia   90.592145\n",
       "2093          4741          Remote Australia    2.109869\n",
       "2094          4741     Very Remote Australia    0.084968"
      ]
     },
     "execution_count": 34,
     "metadata": {},
     "output_type": "execute_result"
    }
   ],
   "source": [
    "remoteness[remoteness.POSTCODE_2017 == 4741]"
   ]
  },
  {
   "cell_type": "markdown",
   "metadata": {},
   "source": [
    "We can see that there are duplicate postcodes with varying degrees of remoteness due to the large area postcode covers. For simplicity, we will narrow this down to one remoteness area with the highest percentage or ratio that postcode covers. In this case, 90% of postcode 4741 is in Outer Regional Australia."
   ]
  },
  {
   "cell_type": "code",
   "execution_count": 35,
   "metadata": {},
   "outputs": [
    {
     "data": {
      "text/html": [
       "<div>\n",
       "<style scoped>\n",
       "    .dataframe tbody tr th:only-of-type {\n",
       "        vertical-align: middle;\n",
       "    }\n",
       "\n",
       "    .dataframe tbody tr th {\n",
       "        vertical-align: top;\n",
       "    }\n",
       "\n",
       "    .dataframe thead th {\n",
       "        text-align: right;\n",
       "    }\n",
       "</style>\n",
       "<table border=\"1\" class=\"dataframe\">\n",
       "  <thead>\n",
       "    <tr style=\"text-align: right;\">\n",
       "      <th></th>\n",
       "      <th>POSTCODE_2017</th>\n",
       "      <th>RA_NAME_2016</th>\n",
       "      <th>PERCENTAGE</th>\n",
       "    </tr>\n",
       "  </thead>\n",
       "  <tbody>\n",
       "    <tr>\n",
       "      <th>231</th>\n",
       "      <td>4741</td>\n",
       "      <td>Outer Regional Australia</td>\n",
       "      <td>90.592145</td>\n",
       "    </tr>\n",
       "  </tbody>\n",
       "</table>\n",
       "</div>"
      ],
      "text/plain": [
       "    POSTCODE_2017              RA_NAME_2016  PERCENTAGE\n",
       "231          4741  Outer Regional Australia   90.592145"
      ]
     },
     "execution_count": 35,
     "metadata": {},
     "output_type": "execute_result"
    }
   ],
   "source": [
    "# drop duplicates\n",
    "remoteness = remoteness.sort_values('PERCENTAGE').drop_duplicates('POSTCODE_2017', keep='last').reset_index(drop=True)\n",
    "remoteness[remoteness.POSTCODE_2017 == 4741]"
   ]
  },
  {
   "cell_type": "code",
   "execution_count": 36,
   "metadata": {},
   "outputs": [
    {
     "data": {
      "text/html": [
       "<div>\n",
       "<style scoped>\n",
       "    .dataframe tbody tr th:only-of-type {\n",
       "        vertical-align: middle;\n",
       "    }\n",
       "\n",
       "    .dataframe tbody tr th {\n",
       "        vertical-align: top;\n",
       "    }\n",
       "\n",
       "    .dataframe thead th {\n",
       "        text-align: right;\n",
       "    }\n",
       "</style>\n",
       "<table border=\"1\" class=\"dataframe\">\n",
       "  <thead>\n",
       "    <tr style=\"text-align: right;\">\n",
       "      <th></th>\n",
       "      <th>POSTCODE_2017</th>\n",
       "      <th>RA_NAME_2016</th>\n",
       "      <th>PERCENTAGE</th>\n",
       "    </tr>\n",
       "  </thead>\n",
       "  <tbody>\n",
       "    <tr>\n",
       "      <th>2668</th>\n",
       "      <td>3546</td>\n",
       "      <td>Outer Regional Australia</td>\n",
       "      <td>100.0</td>\n",
       "    </tr>\n",
       "    <tr>\n",
       "      <th>2669</th>\n",
       "      <td>3434</td>\n",
       "      <td>Inner Regional Australia</td>\n",
       "      <td>100.0</td>\n",
       "    </tr>\n",
       "    <tr>\n",
       "      <th>2670</th>\n",
       "      <td>8005</td>\n",
       "      <td>Major Cities of Australia</td>\n",
       "      <td>100.0</td>\n",
       "    </tr>\n",
       "    <tr>\n",
       "      <th>2671</th>\n",
       "      <td>© Commonwealth of Australia 2018</td>\n",
       "      <td>NaN</td>\n",
       "      <td>NaN</td>\n",
       "    </tr>\n",
       "    <tr>\n",
       "      <th>2672</th>\n",
       "      <td>NaN</td>\n",
       "      <td>NaN</td>\n",
       "      <td>NaN</td>\n",
       "    </tr>\n",
       "  </tbody>\n",
       "</table>\n",
       "</div>"
      ],
      "text/plain": [
       "                         POSTCODE_2017               RA_NAME_2016  PERCENTAGE\n",
       "2668                              3546   Outer Regional Australia       100.0\n",
       "2669                              3434   Inner Regional Australia       100.0\n",
       "2670                              8005  Major Cities of Australia       100.0\n",
       "2671  © Commonwealth of Australia 2018                        NaN         NaN\n",
       "2672                               NaN                        NaN         NaN"
      ]
     },
     "execution_count": 36,
     "metadata": {},
     "output_type": "execute_result"
    }
   ],
   "source": [
    "remoteness.tail()"
   ]
  },
  {
   "cell_type": "code",
   "execution_count": 37,
   "metadata": {},
   "outputs": [],
   "source": [
    "#drop row 2671 and 2672\n",
    "remoteness.drop([2671, 2672], axis=0, inplace=True)"
   ]
  },
  {
   "cell_type": "code",
   "execution_count": 38,
   "metadata": {},
   "outputs": [],
   "source": [
    "# rename columns\n",
    "remoteness.rename(columns={'POSTCODE_2017': 'postcode', 'RA_NAME_2016': 'region', 'PERCENTAGE':'percentage'}, inplace=True)"
   ]
  },
  {
   "cell_type": "code",
   "execution_count": 39,
   "metadata": {},
   "outputs": [],
   "source": [
    "# we don't need the percentage anymore so we can drop this as well\n",
    "remoteness.drop('percentage', axis=1, inplace=True)"
   ]
  },
  {
   "cell_type": "code",
   "execution_count": 40,
   "metadata": {},
   "outputs": [
    {
     "data": {
      "text/html": [
       "<div>\n",
       "<style scoped>\n",
       "    .dataframe tbody tr th:only-of-type {\n",
       "        vertical-align: middle;\n",
       "    }\n",
       "\n",
       "    .dataframe tbody tr th {\n",
       "        vertical-align: top;\n",
       "    }\n",
       "\n",
       "    .dataframe thead th {\n",
       "        text-align: right;\n",
       "    }\n",
       "</style>\n",
       "<table border=\"1\" class=\"dataframe\">\n",
       "  <thead>\n",
       "    <tr style=\"text-align: right;\">\n",
       "      <th></th>\n",
       "      <th>postcode</th>\n",
       "      <th>region</th>\n",
       "    </tr>\n",
       "  </thead>\n",
       "  <tbody>\n",
       "    <tr>\n",
       "      <th>0</th>\n",
       "      <td>4184</td>\n",
       "      <td>Outer Regional Australia</td>\n",
       "    </tr>\n",
       "    <tr>\n",
       "      <th>1</th>\n",
       "      <td>2484</td>\n",
       "      <td>Inner Regional Australia</td>\n",
       "    </tr>\n",
       "    <tr>\n",
       "      <th>2</th>\n",
       "      <td>7150</td>\n",
       "      <td>Inner Regional Australia</td>\n",
       "    </tr>\n",
       "    <tr>\n",
       "      <th>3</th>\n",
       "      <td>4520</td>\n",
       "      <td>Inner Regional Australia</td>\n",
       "    </tr>\n",
       "    <tr>\n",
       "      <th>4</th>\n",
       "      <td>2804</td>\n",
       "      <td>Inner Regional Australia</td>\n",
       "    </tr>\n",
       "  </tbody>\n",
       "</table>\n",
       "</div>"
      ],
      "text/plain": [
       "  postcode                    region\n",
       "0     4184  Outer Regional Australia\n",
       "1     2484  Inner Regional Australia\n",
       "2     7150  Inner Regional Australia\n",
       "3     4520  Inner Regional Australia\n",
       "4     2804  Inner Regional Australia"
      ]
     },
     "execution_count": 40,
     "metadata": {},
     "output_type": "execute_result"
    }
   ],
   "source": [
    "remoteness.head()"
   ]
  },
  {
   "cell_type": "markdown",
   "metadata": {},
   "source": [
    "Now, we need to merge on the postcodes in address and remoteness."
   ]
  },
  {
   "cell_type": "markdown",
   "metadata": {},
   "source": [
    "### MERGE REMOTE INDEX WITH ADDRESS"
   ]
  },
  {
   "cell_type": "code",
   "execution_count": 41,
   "metadata": {},
   "outputs": [],
   "source": [
    "address = address.merge(remoteness, how='left', on='postcode')"
   ]
  },
  {
   "cell_type": "code",
   "execution_count": 42,
   "metadata": {},
   "outputs": [
    {
     "data": {
      "text/html": [
       "<div>\n",
       "<style scoped>\n",
       "    .dataframe tbody tr th:only-of-type {\n",
       "        vertical-align: middle;\n",
       "    }\n",
       "\n",
       "    .dataframe tbody tr th {\n",
       "        vertical-align: top;\n",
       "    }\n",
       "\n",
       "    .dataframe thead th {\n",
       "        text-align: right;\n",
       "    }\n",
       "</style>\n",
       "<table border=\"1\" class=\"dataframe\">\n",
       "  <thead>\n",
       "    <tr style=\"text-align: right;\">\n",
       "      <th></th>\n",
       "      <th>customer_id</th>\n",
       "      <th>address</th>\n",
       "      <th>postcode</th>\n",
       "      <th>state</th>\n",
       "      <th>country</th>\n",
       "      <th>property_valuation</th>\n",
       "      <th>region</th>\n",
       "    </tr>\n",
       "  </thead>\n",
       "  <tbody>\n",
       "    <tr>\n",
       "      <th>0</th>\n",
       "      <td>1</td>\n",
       "      <td>060 Morning Avenue</td>\n",
       "      <td>2016</td>\n",
       "      <td>New South Wales</td>\n",
       "      <td>Australia</td>\n",
       "      <td>10</td>\n",
       "      <td>Major Cities of Australia</td>\n",
       "    </tr>\n",
       "    <tr>\n",
       "      <th>1</th>\n",
       "      <td>2</td>\n",
       "      <td>6 Meadow Vale Court</td>\n",
       "      <td>2153</td>\n",
       "      <td>New South Wales</td>\n",
       "      <td>Australia</td>\n",
       "      <td>10</td>\n",
       "      <td>Major Cities of Australia</td>\n",
       "    </tr>\n",
       "    <tr>\n",
       "      <th>2</th>\n",
       "      <td>4</td>\n",
       "      <td>0 Holy Cross Court</td>\n",
       "      <td>4211</td>\n",
       "      <td>QLD</td>\n",
       "      <td>Australia</td>\n",
       "      <td>9</td>\n",
       "      <td>Major Cities of Australia</td>\n",
       "    </tr>\n",
       "    <tr>\n",
       "      <th>3</th>\n",
       "      <td>5</td>\n",
       "      <td>17979 Del Mar Point</td>\n",
       "      <td>2448</td>\n",
       "      <td>New South Wales</td>\n",
       "      <td>Australia</td>\n",
       "      <td>4</td>\n",
       "      <td>Outer Regional Australia</td>\n",
       "    </tr>\n",
       "    <tr>\n",
       "      <th>4</th>\n",
       "      <td>6</td>\n",
       "      <td>9 Oakridge Court</td>\n",
       "      <td>3216</td>\n",
       "      <td>VIC</td>\n",
       "      <td>Australia</td>\n",
       "      <td>9</td>\n",
       "      <td>Major Cities of Australia</td>\n",
       "    </tr>\n",
       "  </tbody>\n",
       "</table>\n",
       "</div>"
      ],
      "text/plain": [
       "   customer_id              address postcode            state    country  \\\n",
       "0            1   060 Morning Avenue     2016  New South Wales  Australia   \n",
       "1            2  6 Meadow Vale Court     2153  New South Wales  Australia   \n",
       "2            4   0 Holy Cross Court     4211              QLD  Australia   \n",
       "3            5  17979 Del Mar Point     2448  New South Wales  Australia   \n",
       "4            6     9 Oakridge Court     3216              VIC  Australia   \n",
       "\n",
       "   property_valuation                     region  \n",
       "0                  10  Major Cities of Australia  \n",
       "1                  10  Major Cities of Australia  \n",
       "2                   9  Major Cities of Australia  \n",
       "3                   4   Outer Regional Australia  \n",
       "4                   9  Major Cities of Australia  "
      ]
     },
     "execution_count": 42,
     "metadata": {},
     "output_type": "execute_result"
    }
   ],
   "source": [
    "address.head()"
   ]
  },
  {
   "cell_type": "code",
   "execution_count": 43,
   "metadata": {},
   "outputs": [
    {
     "name": "stdout",
     "output_type": "stream",
     "text": [
      "Australia    3999\n",
      "Name: country, dtype: int64\n",
      "missing/is null country: 0\n",
      "\n",
      "9     647\n",
      "8     646\n",
      "10    577\n",
      "7     493\n",
      "11    281\n",
      "6     238\n",
      "5     225\n",
      "4     214\n",
      "12    195\n",
      "3     186\n",
      "1     154\n",
      "2     143\n",
      "Name: property_valuation, dtype: int64\n",
      "missing/is null property_valuation: 0\n",
      "\n",
      "Major Cities of Australia    3292\n",
      "Inner Regional Australia      516\n",
      "Outer Regional Australia      177\n",
      "Remote Australia               11\n",
      "Very Remote Australia           3\n",
      "Name: region, dtype: int64\n",
      "missing/is null region: 0\n",
      "\n"
     ]
    }
   ],
   "source": [
    "features = address.iloc[:,-3:]\n",
    "for i in features.columns:\n",
    "    print(f'{features[i].value_counts()}')\n",
    "    print(f'missing/is null {i}: {features[i].isna().sum()}\\n')"
   ]
  },
  {
   "cell_type": "markdown",
   "metadata": {},
   "source": [
    "We can see that there are no missing values. We only need to reformat the state names."
   ]
  },
  {
   "cell_type": "code",
   "execution_count": 44,
   "metadata": {},
   "outputs": [],
   "source": [
    "address.loc[address.state == 'New South Wales', 'state'] = 'NSW'\n",
    "address.loc[address.state == 'Victoria', 'state'] = 'VIC'"
   ]
  },
  {
   "cell_type": "code",
   "execution_count": 45,
   "metadata": {},
   "outputs": [
    {
     "data": {
      "image/png": "[encoded data removed]",
      "text/plain": [
       "<Figure size 432x288 with 1 Axes>"
      ]
     },
     "metadata": {
      "needs_background": "light"
     },
     "output_type": "display_data"
    }
   ],
   "source": [
    "sns.countplot(data=address, y='region', order=address.region.value_counts().index)\n",
    "plt.show()"
   ]
  },
  {
   "cell_type": "markdown",
   "metadata": {},
   "source": [
    "# NEW CUSTOMERS"
   ]
  },
  {
   "cell_type": "code",
   "execution_count": 46,
   "metadata": {
    "scrolled": false
   },
   "outputs": [
    {
     "data": {
      "text/html": [
       "<div>\n",
       "<style scoped>\n",
       "    .dataframe tbody tr th:only-of-type {\n",
       "        vertical-align: middle;\n",
       "    }\n",
       "\n",
       "    .dataframe tbody tr th {\n",
       "        vertical-align: top;\n",
       "    }\n",
       "\n",
       "    .dataframe thead th {\n",
       "        text-align: right;\n",
       "    }\n",
       "</style>\n",
       "<table border=\"1\" class=\"dataframe\">\n",
       "  <thead>\n",
       "    <tr style=\"text-align: right;\">\n",
       "      <th></th>\n",
       "      <th>0</th>\n",
       "      <th>1</th>\n",
       "      <th>2</th>\n",
       "      <th>3</th>\n",
       "      <th>4</th>\n",
       "    </tr>\n",
       "  </thead>\n",
       "  <tbody>\n",
       "    <tr>\n",
       "      <th>first_name</th>\n",
       "      <td>Chickie</td>\n",
       "      <td>Morly</td>\n",
       "      <td>Ardelis</td>\n",
       "      <td>Lucine</td>\n",
       "      <td>Melinda</td>\n",
       "    </tr>\n",
       "    <tr>\n",
       "      <th>last_name</th>\n",
       "      <td>Brister</td>\n",
       "      <td>Genery</td>\n",
       "      <td>Forrester</td>\n",
       "      <td>Stutt</td>\n",
       "      <td>Hadlee</td>\n",
       "    </tr>\n",
       "    <tr>\n",
       "      <th>gender</th>\n",
       "      <td>Male</td>\n",
       "      <td>Male</td>\n",
       "      <td>Female</td>\n",
       "      <td>Female</td>\n",
       "      <td>Female</td>\n",
       "    </tr>\n",
       "    <tr>\n",
       "      <th>past_3_years_bike_related_purchases</th>\n",
       "      <td>86</td>\n",
       "      <td>69</td>\n",
       "      <td>10</td>\n",
       "      <td>64</td>\n",
       "      <td>34</td>\n",
       "    </tr>\n",
       "    <tr>\n",
       "      <th>DOB</th>\n",
       "      <td>1957-07-12 00:00:00</td>\n",
       "      <td>1970-03-22 00:00:00</td>\n",
       "      <td>1974-08-28 00:00:00</td>\n",
       "      <td>1979-01-28 00:00:00</td>\n",
       "      <td>1965-09-21 00:00:00</td>\n",
       "    </tr>\n",
       "    <tr>\n",
       "      <th>job_title</th>\n",
       "      <td>General Manager</td>\n",
       "      <td>Structural Engineer</td>\n",
       "      <td>Senior Cost Accountant</td>\n",
       "      <td>Account Representative III</td>\n",
       "      <td>Financial Analyst</td>\n",
       "    </tr>\n",
       "    <tr>\n",
       "      <th>job_industry_category</th>\n",
       "      <td>Manufacturing</td>\n",
       "      <td>Property</td>\n",
       "      <td>Financial Services</td>\n",
       "      <td>Manufacturing</td>\n",
       "      <td>Financial Services</td>\n",
       "    </tr>\n",
       "    <tr>\n",
       "      <th>wealth_segment</th>\n",
       "      <td>Mass Customer</td>\n",
       "      <td>Mass Customer</td>\n",
       "      <td>Affluent Customer</td>\n",
       "      <td>Affluent Customer</td>\n",
       "      <td>Affluent Customer</td>\n",
       "    </tr>\n",
       "    <tr>\n",
       "      <th>deceased_indicator</th>\n",
       "      <td>N</td>\n",
       "      <td>N</td>\n",
       "      <td>N</td>\n",
       "      <td>N</td>\n",
       "      <td>N</td>\n",
       "    </tr>\n",
       "    <tr>\n",
       "      <th>owns_car</th>\n",
       "      <td>Yes</td>\n",
       "      <td>No</td>\n",
       "      <td>No</td>\n",
       "      <td>Yes</td>\n",
       "      <td>No</td>\n",
       "    </tr>\n",
       "    <tr>\n",
       "      <th>tenure</th>\n",
       "      <td>14</td>\n",
       "      <td>16</td>\n",
       "      <td>10</td>\n",
       "      <td>5</td>\n",
       "      <td>19</td>\n",
       "    </tr>\n",
       "    <tr>\n",
       "      <th>address</th>\n",
       "      <td>45 Shopko Center</td>\n",
       "      <td>14 Mccormick Park</td>\n",
       "      <td>5 Colorado Crossing</td>\n",
       "      <td>207 Annamark Plaza</td>\n",
       "      <td>115 Montana Place</td>\n",
       "    </tr>\n",
       "    <tr>\n",
       "      <th>postcode</th>\n",
       "      <td>4500</td>\n",
       "      <td>2113</td>\n",
       "      <td>3505</td>\n",
       "      <td>4814</td>\n",
       "      <td>2093</td>\n",
       "    </tr>\n",
       "    <tr>\n",
       "      <th>state</th>\n",
       "      <td>QLD</td>\n",
       "      <td>NSW</td>\n",
       "      <td>VIC</td>\n",
       "      <td>QLD</td>\n",
       "      <td>NSW</td>\n",
       "    </tr>\n",
       "    <tr>\n",
       "      <th>country</th>\n",
       "      <td>Australia</td>\n",
       "      <td>Australia</td>\n",
       "      <td>Australia</td>\n",
       "      <td>Australia</td>\n",
       "      <td>Australia</td>\n",
       "    </tr>\n",
       "    <tr>\n",
       "      <th>property_valuation</th>\n",
       "      <td>6</td>\n",
       "      <td>11</td>\n",
       "      <td>5</td>\n",
       "      <td>1</td>\n",
       "      <td>9</td>\n",
       "    </tr>\n",
       "    <tr>\n",
       "      <th>Unnamed: 16</th>\n",
       "      <td>0.91</td>\n",
       "      <td>0.83</td>\n",
       "      <td>0.73</td>\n",
       "      <td>0.56</td>\n",
       "      <td>1.03</td>\n",
       "    </tr>\n",
       "    <tr>\n",
       "      <th>Unnamed: 17</th>\n",
       "      <td>1.1375</td>\n",
       "      <td>0.83</td>\n",
       "      <td>0.73</td>\n",
       "      <td>0.7</td>\n",
       "      <td>1.03</td>\n",
       "    </tr>\n",
       "    <tr>\n",
       "      <th>Unnamed: 18</th>\n",
       "      <td>1.42188</td>\n",
       "      <td>1.0375</td>\n",
       "      <td>0.73</td>\n",
       "      <td>0.7</td>\n",
       "      <td>1.2875</td>\n",
       "    </tr>\n",
       "    <tr>\n",
       "      <th>Unnamed: 19</th>\n",
       "      <td>1.20859</td>\n",
       "      <td>0.881875</td>\n",
       "      <td>0.73</td>\n",
       "      <td>0.7</td>\n",
       "      <td>1.2875</td>\n",
       "    </tr>\n",
       "    <tr>\n",
       "      <th>Unnamed: 20</th>\n",
       "      <td>1</td>\n",
       "      <td>1</td>\n",
       "      <td>1</td>\n",
       "      <td>4</td>\n",
       "      <td>4</td>\n",
       "    </tr>\n",
       "    <tr>\n",
       "      <th>Rank</th>\n",
       "      <td>1</td>\n",
       "      <td>1</td>\n",
       "      <td>1</td>\n",
       "      <td>4</td>\n",
       "      <td>4</td>\n",
       "    </tr>\n",
       "    <tr>\n",
       "      <th>Value</th>\n",
       "      <td>1.71875</td>\n",
       "      <td>1.71875</td>\n",
       "      <td>1.71875</td>\n",
       "      <td>1.70312</td>\n",
       "      <td>1.70312</td>\n",
       "    </tr>\n",
       "  </tbody>\n",
       "</table>\n",
       "</div>"
      ],
      "text/plain": [
       "                                                       0                    1  \\\n",
       "first_name                                       Chickie                Morly   \n",
       "last_name                                        Brister               Genery   \n",
       "gender                                              Male                 Male   \n",
       "past_3_years_bike_related_purchases                   86                   69   \n",
       "DOB                                  1957-07-12 00:00:00  1970-03-22 00:00:00   \n",
       "job_title                                General Manager  Structural Engineer   \n",
       "job_industry_category                      Manufacturing             Property   \n",
       "wealth_segment                             Mass Customer        Mass Customer   \n",
       "deceased_indicator                                     N                    N   \n",
       "owns_car                                             Yes                   No   \n",
       "tenure                                                14                   16   \n",
       "address                                 45 Shopko Center    14 Mccormick Park   \n",
       "postcode                                            4500                 2113   \n",
       "state                                                QLD                  NSW   \n",
       "country                                        Australia            Australia   \n",
       "property_valuation                                     6                   11   \n",
       "Unnamed: 16                                         0.91                 0.83   \n",
       "Unnamed: 17                                       1.1375                 0.83   \n",
       "Unnamed: 18                                      1.42188               1.0375   \n",
       "Unnamed: 19                                      1.20859             0.881875   \n",
       "Unnamed: 20                                            1                    1   \n",
       "Rank                                                   1                    1   \n",
       "Value                                            1.71875              1.71875   \n",
       "\n",
       "                                                          2  \\\n",
       "first_name                                          Ardelis   \n",
       "last_name                                         Forrester   \n",
       "gender                                               Female   \n",
       "past_3_years_bike_related_purchases                      10   \n",
       "DOB                                     1974-08-28 00:00:00   \n",
       "job_title                            Senior Cost Accountant   \n",
       "job_industry_category                    Financial Services   \n",
       "wealth_segment                            Affluent Customer   \n",
       "deceased_indicator                                        N   \n",
       "owns_car                                                 No   \n",
       "tenure                                                   10   \n",
       "address                                 5 Colorado Crossing   \n",
       "postcode                                               3505   \n",
       "state                                                   VIC   \n",
       "country                                           Australia   \n",
       "property_valuation                                        5   \n",
       "Unnamed: 16                                            0.73   \n",
       "Unnamed: 17                                            0.73   \n",
       "Unnamed: 18                                            0.73   \n",
       "Unnamed: 19                                            0.73   \n",
       "Unnamed: 20                                               1   \n",
       "Rank                                                      1   \n",
       "Value                                               1.71875   \n",
       "\n",
       "                                                              3  \\\n",
       "first_name                                               Lucine   \n",
       "last_name                                                 Stutt   \n",
       "gender                                                   Female   \n",
       "past_3_years_bike_related_purchases                          64   \n",
       "DOB                                         1979-01-28 00:00:00   \n",
       "job_title                            Account Representative III   \n",
       "job_industry_category                             Manufacturing   \n",
       "wealth_segment                                Affluent Customer   \n",
       "deceased_indicator                                            N   \n",
       "owns_car                                                    Yes   \n",
       "tenure                                                        5   \n",
       "address                                      207 Annamark Plaza   \n",
       "postcode                                                   4814   \n",
       "state                                                       QLD   \n",
       "country                                               Australia   \n",
       "property_valuation                                            1   \n",
       "Unnamed: 16                                                0.56   \n",
       "Unnamed: 17                                                 0.7   \n",
       "Unnamed: 18                                                 0.7   \n",
       "Unnamed: 19                                                 0.7   \n",
       "Unnamed: 20                                                   4   \n",
       "Rank                                                          4   \n",
       "Value                                                   1.70312   \n",
       "\n",
       "                                                       4  \n",
       "first_name                                       Melinda  \n",
       "last_name                                         Hadlee  \n",
       "gender                                            Female  \n",
       "past_3_years_bike_related_purchases                   34  \n",
       "DOB                                  1965-09-21 00:00:00  \n",
       "job_title                              Financial Analyst  \n",
       "job_industry_category                 Financial Services  \n",
       "wealth_segment                         Affluent Customer  \n",
       "deceased_indicator                                     N  \n",
       "owns_car                                              No  \n",
       "tenure                                                19  \n",
       "address                                115 Montana Place  \n",
       "postcode                                            2093  \n",
       "state                                                NSW  \n",
       "country                                        Australia  \n",
       "property_valuation                                     9  \n",
       "Unnamed: 16                                         1.03  \n",
       "Unnamed: 17                                         1.03  \n",
       "Unnamed: 18                                       1.2875  \n",
       "Unnamed: 19                                       1.2875  \n",
       "Unnamed: 20                                            4  \n",
       "Rank                                                   4  \n",
       "Value                                            1.70312  "
      ]
     },
     "execution_count": 46,
     "metadata": {},
     "output_type": "execute_result"
    }
   ],
   "source": [
    " new_customers.head().T"
   ]
  },
  {
   "cell_type": "code",
   "execution_count": 47,
   "metadata": {},
   "outputs": [
    {
     "name": "stdout",
     "output_type": "stream",
     "text": [
      "<class 'pandas.core.frame.DataFrame'>\n",
      "RangeIndex: 1000 entries, 0 to 999\n",
      "Data columns (total 23 columns):\n",
      " #   Column                               Non-Null Count  Dtype         \n",
      "---  ------                               --------------  -----         \n",
      " 0   first_name                           1000 non-null   object        \n",
      " 1   last_name                            971 non-null    object        \n",
      " 2   gender                               1000 non-null   object        \n",
      " 3   past_3_years_bike_related_purchases  1000 non-null   int64         \n",
      " 4   DOB                                  983 non-null    datetime64[ns]\n",
      " 5   job_title                            894 non-null    object        \n",
      " 6   job_industry_category                835 non-null    object        \n",
      " 7   wealth_segment                       1000 non-null   object        \n",
      " 8   deceased_indicator                   1000 non-null   object        \n",
      " 9   owns_car                             1000 non-null   object        \n",
      " 10  tenure                               1000 non-null   int64         \n",
      " 11  address                              1000 non-null   object        \n",
      " 12  postcode                             1000 non-null   int64         \n",
      " 13  state                                1000 non-null   object        \n",
      " 14  country                              1000 non-null   object        \n",
      " 15  property_valuation                   1000 non-null   int64         \n",
      " 16  Unnamed: 16                          1000 non-null   float64       \n",
      " 17  Unnamed: 17                          1000 non-null   float64       \n",
      " 18  Unnamed: 18                          1000 non-null   float64       \n",
      " 19  Unnamed: 19                          1000 non-null   float64       \n",
      " 20  Unnamed: 20                          1000 non-null   int64         \n",
      " 21  Rank                                 1000 non-null   int64         \n",
      " 22  Value                                1000 non-null   float64       \n",
      "dtypes: datetime64[ns](1), float64(5), int64(6), object(11)\n",
      "memory usage: 179.8+ KB\n"
     ]
    }
   ],
   "source": [
    "new_customers.info()"
   ]
  },
  {
   "cell_type": "markdown",
   "metadata": {},
   "source": [
    "Right away we can immediately dropped the unnamed columns as this won't be relevant to our analysis. We can generalize our data to age and tenure ranges."
   ]
  },
  {
   "cell_type": "code",
   "execution_count": 48,
   "metadata": {},
   "outputs": [],
   "source": [
    "new_customers.drop(['Unnamed: 16', 'Unnamed: 17', 'Unnamed: 18', 'Unnamed: 19', 'Unnamed: 20'], axis=1, inplace=True)"
   ]
  },
  {
   "cell_type": "code",
   "execution_count": 49,
   "metadata": {},
   "outputs": [
    {
     "name": "stdout",
     "output_type": "stream",
     "text": [
      "Earliest DOB: 1938-06-08 00:00:00\n",
      "Latest DOB: 2002-02-27 00:00:00\n"
     ]
    }
   ],
   "source": [
    "print(f'Earliest DOB: {min(new_customers.DOB)}')\n",
    "print(f'Latest DOB: {max(new_customers.DOB)}')"
   ]
  },
  {
   "cell_type": "code",
   "execution_count": 50,
   "metadata": {
    "scrolled": false
   },
   "outputs": [
    {
     "name": "stdout",
     "output_type": "stream",
     "text": [
      "Female    513\n",
      "Male      470\n",
      "U          17\n",
      "Name: gender, dtype: int64\n",
      "missing/is null gender: 0\n",
      "\n",
      "Associate Professor             15\n",
      "Software Consultant             14\n",
      "Environmental Tech              14\n",
      "Chief Design Engineer           13\n",
      "Assistant Media Planner         12\n",
      "                                ..\n",
      "Accounting Assistant II          1\n",
      "Statistician III                 1\n",
      "Systems Administrator II         1\n",
      "Computer Systems Analyst III     1\n",
      "Software Test Engineer III       1\n",
      "Name: job_title, Length: 184, dtype: int64\n",
      "missing/is null job_title: 106\n",
      "\n",
      "Financial Services    203\n",
      "Manufacturing         199\n",
      "Health                152\n",
      "Retail                 78\n",
      "Property               64\n",
      "IT                     51\n",
      "Entertainment          37\n",
      "Argiculture            26\n",
      "Telecommunications     25\n",
      "Name: job_industry_category, dtype: int64\n",
      "missing/is null job_industry_category: 165\n",
      "\n",
      "Mass Customer        508\n",
      "High Net Worth       251\n",
      "Affluent Customer    241\n",
      "Name: wealth_segment, dtype: int64\n",
      "missing/is null wealth_segment: 0\n",
      "\n",
      "N    1000\n",
      "Name: deceased_indicator, dtype: int64\n",
      "missing/is null deceased_indicator: 0\n",
      "\n",
      "No     507\n",
      "Yes    493\n",
      "Name: owns_car, dtype: int64\n",
      "missing/is null owns_car: 0\n",
      "\n",
      "9     79\n",
      "13    74\n",
      "11    68\n",
      "10    63\n",
      "12    61\n",
      "7     60\n",
      "5     60\n",
      "17    59\n",
      "15    58\n",
      "8     55\n",
      "14    54\n",
      "16    49\n",
      "6     45\n",
      "18    36\n",
      "4     36\n",
      "19    34\n",
      "3     26\n",
      "21    24\n",
      "20    22\n",
      "2     15\n",
      "22    12\n",
      "1      8\n",
      "0      2\n",
      "Name: tenure, dtype: int64\n",
      "missing/is null tenure: 0\n",
      "\n",
      "NSW    506\n",
      "VIC    266\n",
      "QLD    228\n",
      "Name: state, dtype: int64\n",
      "missing/is null state: 0\n",
      "\n",
      "9     173\n",
      "8     162\n",
      "7     138\n",
      "10    116\n",
      "6      70\n",
      "11     62\n",
      "5      57\n",
      "4      53\n",
      "3      51\n",
      "12     46\n",
      "2      42\n",
      "1      30\n",
      "Name: property_valuation, dtype: int64\n",
      "missing/is null property_valuation: 0\n",
      "\n",
      "760     13\n",
      "259     12\n",
      "455      9\n",
      "904      9\n",
      "386      9\n",
      "        ..\n",
      "785      1\n",
      "773      1\n",
      "754      1\n",
      "355      1\n",
      "1000     1\n",
      "Name: Rank, Length: 324, dtype: int64\n",
      "missing/is null Rank: 0\n",
      "\n",
      "0.637500    13\n",
      "1.062500    12\n",
      "1.237500     9\n",
      "0.892500     9\n",
      "0.945625     9\n",
      "            ..\n",
      "0.630000     1\n",
      "0.340000     1\n",
      "0.875500     1\n",
      "0.867000     1\n",
      "1.142187     1\n",
      "Name: Value, Length: 324, dtype: int64\n",
      "missing/is null Value: 0\n",
      "\n"
     ]
    }
   ],
   "source": [
    "features = new_customers.iloc[:,[2, 5, 6, 7, 8, 9, 10, 13, 15, 16, 17]]\n",
    "\n",
    "for i in features.columns:\n",
    "    print(f'{features[i].value_counts()}')\n",
    "    print(f'missing/is null {i}: {features[i].isna().sum()}\\n')"
   ]
  },
  {
   "cell_type": "markdown",
   "metadata": {},
   "source": [
    "#### TENURE"
   ]
  },
  {
   "cell_type": "markdown",
   "metadata": {},
   "source": [
    "We will also bin tenure for new customers with the same intervals."
   ]
  },
  {
   "cell_type": "code",
   "execution_count": 51,
   "metadata": {},
   "outputs": [
    {
     "data": {
      "text/html": [
       "<div>\n",
       "<style scoped>\n",
       "    .dataframe tbody tr th:only-of-type {\n",
       "        vertical-align: middle;\n",
       "    }\n",
       "\n",
       "    .dataframe tbody tr th {\n",
       "        vertical-align: top;\n",
       "    }\n",
       "\n",
       "    .dataframe thead th {\n",
       "        text-align: right;\n",
       "    }\n",
       "</style>\n",
       "<table border=\"1\" class=\"dataframe\">\n",
       "  <thead>\n",
       "    <tr style=\"text-align: right;\">\n",
       "      <th></th>\n",
       "      <th>count</th>\n",
       "      <th>mean</th>\n",
       "      <th>std</th>\n",
       "      <th>min</th>\n",
       "      <th>25%</th>\n",
       "      <th>50%</th>\n",
       "      <th>75%</th>\n",
       "      <th>max</th>\n",
       "    </tr>\n",
       "  </thead>\n",
       "  <tbody>\n",
       "    <tr>\n",
       "      <th>past_3_years_bike_related_purchases</th>\n",
       "      <td>1000.0</td>\n",
       "      <td>49.836000</td>\n",
       "      <td>27.796686</td>\n",
       "      <td>0.00</td>\n",
       "      <td>26.750000</td>\n",
       "      <td>51.00</td>\n",
       "      <td>72.000</td>\n",
       "      <td>99.00000</td>\n",
       "    </tr>\n",
       "    <tr>\n",
       "      <th>tenure</th>\n",
       "      <td>1000.0</td>\n",
       "      <td>11.388000</td>\n",
       "      <td>5.037145</td>\n",
       "      <td>0.00</td>\n",
       "      <td>7.000000</td>\n",
       "      <td>11.00</td>\n",
       "      <td>15.000</td>\n",
       "      <td>22.00000</td>\n",
       "    </tr>\n",
       "    <tr>\n",
       "      <th>postcode</th>\n",
       "      <td>1000.0</td>\n",
       "      <td>3019.227000</td>\n",
       "      <td>848.895767</td>\n",
       "      <td>2000.00</td>\n",
       "      <td>2209.000000</td>\n",
       "      <td>2800.00</td>\n",
       "      <td>3845.500</td>\n",
       "      <td>4879.00000</td>\n",
       "    </tr>\n",
       "    <tr>\n",
       "      <th>property_valuation</th>\n",
       "      <td>1000.0</td>\n",
       "      <td>7.397000</td>\n",
       "      <td>2.758804</td>\n",
       "      <td>1.00</td>\n",
       "      <td>6.000000</td>\n",
       "      <td>8.00</td>\n",
       "      <td>9.000</td>\n",
       "      <td>12.00000</td>\n",
       "    </tr>\n",
       "    <tr>\n",
       "      <th>Rank</th>\n",
       "      <td>1000.0</td>\n",
       "      <td>498.819000</td>\n",
       "      <td>288.810997</td>\n",
       "      <td>1.00</td>\n",
       "      <td>250.000000</td>\n",
       "      <td>500.00</td>\n",
       "      <td>750.250</td>\n",
       "      <td>1000.00000</td>\n",
       "    </tr>\n",
       "    <tr>\n",
       "      <th>Value</th>\n",
       "      <td>1000.0</td>\n",
       "      <td>0.881714</td>\n",
       "      <td>0.293525</td>\n",
       "      <td>0.34</td>\n",
       "      <td>0.649531</td>\n",
       "      <td>0.86</td>\n",
       "      <td>1.075</td>\n",
       "      <td>1.71875</td>\n",
       "    </tr>\n",
       "  </tbody>\n",
       "</table>\n",
       "</div>"
      ],
      "text/plain": [
       "                                      count         mean         std      min  \\\n",
       "past_3_years_bike_related_purchases  1000.0    49.836000   27.796686     0.00   \n",
       "tenure                               1000.0    11.388000    5.037145     0.00   \n",
       "postcode                             1000.0  3019.227000  848.895767  2000.00   \n",
       "property_valuation                   1000.0     7.397000    2.758804     1.00   \n",
       "Rank                                 1000.0   498.819000  288.810997     1.00   \n",
       "Value                                1000.0     0.881714    0.293525     0.34   \n",
       "\n",
       "                                             25%      50%       75%  \\\n",
       "past_3_years_bike_related_purchases    26.750000    51.00    72.000   \n",
       "tenure                                  7.000000    11.00    15.000   \n",
       "postcode                             2209.000000  2800.00  3845.500   \n",
       "property_valuation                      6.000000     8.00     9.000   \n",
       "Rank                                  250.000000   500.00   750.250   \n",
       "Value                                   0.649531     0.86     1.075   \n",
       "\n",
       "                                            max  \n",
       "past_3_years_bike_related_purchases    99.00000  \n",
       "tenure                                 22.00000  \n",
       "postcode                             4879.00000  \n",
       "property_valuation                     12.00000  \n",
       "Rank                                 1000.00000  \n",
       "Value                                   1.71875  "
      ]
     },
     "execution_count": 51,
     "metadata": {},
     "output_type": "execute_result"
    }
   ],
   "source": [
    "new_customers.describe().T"
   ]
  },
  {
   "cell_type": "code",
   "execution_count": 52,
   "metadata": {},
   "outputs": [
    {
     "data": {
      "image/png": "[encoded data removed]",
      "text/plain": [
       "<Figure size 432x288 with 1 Axes>"
      ]
     },
     "metadata": {
      "needs_background": "light"
     },
     "output_type": "display_data"
    }
   ],
   "source": [
    "plt.hist(new_customers.tenure)\n",
    "plt.show()"
   ]
  },
  {
   "cell_type": "code",
   "execution_count": 53,
   "metadata": {},
   "outputs": [
    {
     "data": {
      "image/png": "[encoded data removed]",
      "text/plain": [
       "<Figure size 432x288 with 1 Axes>"
      ]
     },
     "metadata": {
      "needs_background": "light"
     },
     "output_type": "display_data"
    }
   ],
   "source": [
    "# create bins and labels\n",
    "bins = [0, 5, 10, 15, 20, 25]\n",
    "labels = ['0-5 years','6-10 years','11-15 years','16-20 years','21-25 years']\n",
    "#bin data\n",
    "new_customers['tenure'] = pd.cut(new_customers['tenure'] , bins=bins, labels=labels, include_lowest=True)\n",
    "\n",
    "sns.countplot(data = new_customers, x='tenure')\n",
    "plt.show()"
   ]
  },
  {
   "cell_type": "markdown",
   "metadata": {},
   "source": [
    "#### AGE"
   ]
  },
  {
   "cell_type": "markdown",
   "metadata": {},
   "source": [
    "We can bin age once more for the new customers."
   ]
  },
  {
   "cell_type": "code",
   "execution_count": 54,
   "metadata": {},
   "outputs": [],
   "source": [
    "#find the age of each customer at time of purchase\n",
    "#initialize a column called 'age'\n",
    "new_customers['age'] = np.nan\n",
    "\n",
    "for i in new_customers.index:\n",
    "    age = 2017 - new_customers.DOB[i].year\n",
    "    new_customers.loc[i, 'age'] = age\n",
    "\n",
    "#change dtype to int\n",
    "new_customers.age = new_customers.age.astype('Int64')\n",
    "\n",
    "# create bins and labels for increments of 10 years\n",
    "bins = [0, 20, 30, 40, 50, 60, 70, 90]\n",
    "labels = ['20 and younger','21-30 years old','31-40 years old','41-50 years old','51-60 years old',\n",
    "          '61-70 years old','70 and up']\n",
    "#bin data\n",
    "new_customers['age'] = pd.cut(new_customers['age'] , bins=bins, labels=labels, include_lowest=True)"
   ]
  },
  {
   "cell_type": "markdown",
   "metadata": {},
   "source": [
    "Because we do not have columns for Rank and Value for existing customers, we won't know how to predict based on these features. We can drop these columns from our dataset. However,  we will save this as a new dataframe in case we discover a use for these features as we continue to explore the data. We will also need to merge this with the remoteness index to get an idea of what region these customers are from. "
   ]
  },
  {
   "cell_type": "code",
   "execution_count": 55,
   "metadata": {},
   "outputs": [
    {
     "name": "stdout",
     "output_type": "stream",
     "text": [
      "<class 'pandas.core.frame.DataFrame'>\n",
      "RangeIndex: 1000 entries, 0 to 999\n",
      "Data columns (total 19 columns):\n",
      " #   Column                               Non-Null Count  Dtype         \n",
      "---  ------                               --------------  -----         \n",
      " 0   first_name                           1000 non-null   object        \n",
      " 1   last_name                            971 non-null    object        \n",
      " 2   gender                               1000 non-null   object        \n",
      " 3   past_3_years_bike_related_purchases  1000 non-null   int64         \n",
      " 4   DOB                                  983 non-null    datetime64[ns]\n",
      " 5   job_title                            894 non-null    object        \n",
      " 6   job_industry_category                835 non-null    object        \n",
      " 7   wealth_segment                       1000 non-null   object        \n",
      " 8   deceased_indicator                   1000 non-null   object        \n",
      " 9   owns_car                             1000 non-null   object        \n",
      " 10  tenure                               1000 non-null   category      \n",
      " 11  address                              1000 non-null   object        \n",
      " 12  postcode                             1000 non-null   int64         \n",
      " 13  state                                1000 non-null   object        \n",
      " 14  country                              1000 non-null   object        \n",
      " 15  property_valuation                   1000 non-null   int64         \n",
      " 16  Rank                                 1000 non-null   int64         \n",
      " 17  Value                                1000 non-null   float64       \n",
      " 18  age                                  983 non-null    category      \n",
      "dtypes: category(2), datetime64[ns](1), float64(1), int64(4), object(11)\n",
      "memory usage: 135.5+ KB\n"
     ]
    }
   ],
   "source": [
    "new_customers.info()"
   ]
  },
  {
   "cell_type": "code",
   "execution_count": 56,
   "metadata": {},
   "outputs": [],
   "source": [
    "new_customers1 = new_customers.drop(['Rank', 'Value', 'DOB'], axis=1)"
   ]
  },
  {
   "cell_type": "code",
   "execution_count": 57,
   "metadata": {},
   "outputs": [],
   "source": [
    "# merge remoteness\n",
    "new_customers1 = new_customers1.merge(remoteness, how='left', on='postcode')"
   ]
  },
  {
   "cell_type": "code",
   "execution_count": 58,
   "metadata": {},
   "outputs": [
    {
     "data": {
      "text/html": [
       "<div>\n",
       "<style scoped>\n",
       "    .dataframe tbody tr th:only-of-type {\n",
       "        vertical-align: middle;\n",
       "    }\n",
       "\n",
       "    .dataframe tbody tr th {\n",
       "        vertical-align: top;\n",
       "    }\n",
       "\n",
       "    .dataframe thead th {\n",
       "        text-align: right;\n",
       "    }\n",
       "</style>\n",
       "<table border=\"1\" class=\"dataframe\">\n",
       "  <thead>\n",
       "    <tr style=\"text-align: right;\">\n",
       "      <th></th>\n",
       "      <th>0</th>\n",
       "      <th>1</th>\n",
       "      <th>2</th>\n",
       "      <th>3</th>\n",
       "      <th>4</th>\n",
       "    </tr>\n",
       "  </thead>\n",
       "  <tbody>\n",
       "    <tr>\n",
       "      <th>first_name</th>\n",
       "      <td>Chickie</td>\n",
       "      <td>Morly</td>\n",
       "      <td>Ardelis</td>\n",
       "      <td>Lucine</td>\n",
       "      <td>Melinda</td>\n",
       "    </tr>\n",
       "    <tr>\n",
       "      <th>last_name</th>\n",
       "      <td>Brister</td>\n",
       "      <td>Genery</td>\n",
       "      <td>Forrester</td>\n",
       "      <td>Stutt</td>\n",
       "      <td>Hadlee</td>\n",
       "    </tr>\n",
       "    <tr>\n",
       "      <th>gender</th>\n",
       "      <td>Male</td>\n",
       "      <td>Male</td>\n",
       "      <td>Female</td>\n",
       "      <td>Female</td>\n",
       "      <td>Female</td>\n",
       "    </tr>\n",
       "    <tr>\n",
       "      <th>past_3_years_bike_related_purchases</th>\n",
       "      <td>86</td>\n",
       "      <td>69</td>\n",
       "      <td>10</td>\n",
       "      <td>64</td>\n",
       "      <td>34</td>\n",
       "    </tr>\n",
       "    <tr>\n",
       "      <th>job_title</th>\n",
       "      <td>General Manager</td>\n",
       "      <td>Structural Engineer</td>\n",
       "      <td>Senior Cost Accountant</td>\n",
       "      <td>Account Representative III</td>\n",
       "      <td>Financial Analyst</td>\n",
       "    </tr>\n",
       "    <tr>\n",
       "      <th>job_industry_category</th>\n",
       "      <td>Manufacturing</td>\n",
       "      <td>Property</td>\n",
       "      <td>Financial Services</td>\n",
       "      <td>Manufacturing</td>\n",
       "      <td>Financial Services</td>\n",
       "    </tr>\n",
       "    <tr>\n",
       "      <th>wealth_segment</th>\n",
       "      <td>Mass Customer</td>\n",
       "      <td>Mass Customer</td>\n",
       "      <td>Affluent Customer</td>\n",
       "      <td>Affluent Customer</td>\n",
       "      <td>Affluent Customer</td>\n",
       "    </tr>\n",
       "    <tr>\n",
       "      <th>deceased_indicator</th>\n",
       "      <td>N</td>\n",
       "      <td>N</td>\n",
       "      <td>N</td>\n",
       "      <td>N</td>\n",
       "      <td>N</td>\n",
       "    </tr>\n",
       "    <tr>\n",
       "      <th>owns_car</th>\n",
       "      <td>Yes</td>\n",
       "      <td>No</td>\n",
       "      <td>No</td>\n",
       "      <td>Yes</td>\n",
       "      <td>No</td>\n",
       "    </tr>\n",
       "    <tr>\n",
       "      <th>tenure</th>\n",
       "      <td>11-15 years</td>\n",
       "      <td>16-20 years</td>\n",
       "      <td>6-10 years</td>\n",
       "      <td>0-5 years</td>\n",
       "      <td>16-20 years</td>\n",
       "    </tr>\n",
       "    <tr>\n",
       "      <th>address</th>\n",
       "      <td>45 Shopko Center</td>\n",
       "      <td>14 Mccormick Park</td>\n",
       "      <td>5 Colorado Crossing</td>\n",
       "      <td>207 Annamark Plaza</td>\n",
       "      <td>115 Montana Place</td>\n",
       "    </tr>\n",
       "    <tr>\n",
       "      <th>postcode</th>\n",
       "      <td>4500</td>\n",
       "      <td>2113</td>\n",
       "      <td>3505</td>\n",
       "      <td>4814</td>\n",
       "      <td>2093</td>\n",
       "    </tr>\n",
       "    <tr>\n",
       "      <th>state</th>\n",
       "      <td>QLD</td>\n",
       "      <td>NSW</td>\n",
       "      <td>VIC</td>\n",
       "      <td>QLD</td>\n",
       "      <td>NSW</td>\n",
       "    </tr>\n",
       "    <tr>\n",
       "      <th>country</th>\n",
       "      <td>Australia</td>\n",
       "      <td>Australia</td>\n",
       "      <td>Australia</td>\n",
       "      <td>Australia</td>\n",
       "      <td>Australia</td>\n",
       "    </tr>\n",
       "    <tr>\n",
       "      <th>property_valuation</th>\n",
       "      <td>6</td>\n",
       "      <td>11</td>\n",
       "      <td>5</td>\n",
       "      <td>1</td>\n",
       "      <td>9</td>\n",
       "    </tr>\n",
       "    <tr>\n",
       "      <th>age</th>\n",
       "      <td>51-60 years old</td>\n",
       "      <td>41-50 years old</td>\n",
       "      <td>41-50 years old</td>\n",
       "      <td>31-40 years old</td>\n",
       "      <td>51-60 years old</td>\n",
       "    </tr>\n",
       "    <tr>\n",
       "      <th>region</th>\n",
       "      <td>Major Cities of Australia</td>\n",
       "      <td>Major Cities of Australia</td>\n",
       "      <td>Outer Regional Australia</td>\n",
       "      <td>Outer Regional Australia</td>\n",
       "      <td>Major Cities of Australia</td>\n",
       "    </tr>\n",
       "  </tbody>\n",
       "</table>\n",
       "</div>"
      ],
      "text/plain": [
       "                                                             0  \\\n",
       "first_name                                             Chickie   \n",
       "last_name                                              Brister   \n",
       "gender                                                    Male   \n",
       "past_3_years_bike_related_purchases                         86   \n",
       "job_title                                      General Manager   \n",
       "job_industry_category                            Manufacturing   \n",
       "wealth_segment                                   Mass Customer   \n",
       "deceased_indicator                                           N   \n",
       "owns_car                                                   Yes   \n",
       "tenure                                             11-15 years   \n",
       "address                                       45 Shopko Center   \n",
       "postcode                                                  4500   \n",
       "state                                                      QLD   \n",
       "country                                              Australia   \n",
       "property_valuation                                           6   \n",
       "age                                            51-60 years old   \n",
       "region                               Major Cities of Australia   \n",
       "\n",
       "                                                             1  \\\n",
       "first_name                                               Morly   \n",
       "last_name                                               Genery   \n",
       "gender                                                    Male   \n",
       "past_3_years_bike_related_purchases                         69   \n",
       "job_title                                  Structural Engineer   \n",
       "job_industry_category                                 Property   \n",
       "wealth_segment                                   Mass Customer   \n",
       "deceased_indicator                                           N   \n",
       "owns_car                                                    No   \n",
       "tenure                                             16-20 years   \n",
       "address                                      14 Mccormick Park   \n",
       "postcode                                                  2113   \n",
       "state                                                      NSW   \n",
       "country                                              Australia   \n",
       "property_valuation                                          11   \n",
       "age                                            41-50 years old   \n",
       "region                               Major Cities of Australia   \n",
       "\n",
       "                                                            2  \\\n",
       "first_name                                            Ardelis   \n",
       "last_name                                           Forrester   \n",
       "gender                                                 Female   \n",
       "past_3_years_bike_related_purchases                        10   \n",
       "job_title                              Senior Cost Accountant   \n",
       "job_industry_category                      Financial Services   \n",
       "wealth_segment                              Affluent Customer   \n",
       "deceased_indicator                                          N   \n",
       "owns_car                                                   No   \n",
       "tenure                                             6-10 years   \n",
       "address                                   5 Colorado Crossing   \n",
       "postcode                                                 3505   \n",
       "state                                                     VIC   \n",
       "country                                             Australia   \n",
       "property_valuation                                          5   \n",
       "age                                           41-50 years old   \n",
       "region                               Outer Regional Australia   \n",
       "\n",
       "                                                              3  \\\n",
       "first_name                                               Lucine   \n",
       "last_name                                                 Stutt   \n",
       "gender                                                   Female   \n",
       "past_3_years_bike_related_purchases                          64   \n",
       "job_title                            Account Representative III   \n",
       "job_industry_category                             Manufacturing   \n",
       "wealth_segment                                Affluent Customer   \n",
       "deceased_indicator                                            N   \n",
       "owns_car                                                    Yes   \n",
       "tenure                                                0-5 years   \n",
       "address                                      207 Annamark Plaza   \n",
       "postcode                                                   4814   \n",
       "state                                                       QLD   \n",
       "country                                               Australia   \n",
       "property_valuation                                            1   \n",
       "age                                             31-40 years old   \n",
       "region                                 Outer Regional Australia   \n",
       "\n",
       "                                                             4  \n",
       "first_name                                             Melinda  \n",
       "last_name                                               Hadlee  \n",
       "gender                                                  Female  \n",
       "past_3_years_bike_related_purchases                         34  \n",
       "job_title                                    Financial Analyst  \n",
       "job_industry_category                       Financial Services  \n",
       "wealth_segment                               Affluent Customer  \n",
       "deceased_indicator                                           N  \n",
       "owns_car                                                    No  \n",
       "tenure                                             16-20 years  \n",
       "address                                      115 Montana Place  \n",
       "postcode                                                  2093  \n",
       "state                                                      NSW  \n",
       "country                                              Australia  \n",
       "property_valuation                                           9  \n",
       "age                                            51-60 years old  \n",
       "region                               Major Cities of Australia  "
      ]
     },
     "execution_count": 58,
     "metadata": {},
     "output_type": "execute_result"
    }
   ],
   "source": [
    "new_customers1.head().T"
   ]
  },
  {
   "cell_type": "markdown",
   "metadata": {},
   "source": [
    "# MERGING THE TABLES"
   ]
  },
  {
   "cell_type": "markdown",
   "metadata": {},
   "source": [
    "Before we can explore the data, we need to merge the tables and make sure that there aren't any more reformatting issues, duplicates, or missing values. \n",
    "\n",
    "First, we will join the existing customers to their addresses. We will keep transactions separate for now. We won't be merging the new customers as this will be our test set."
   ]
  },
  {
   "cell_type": "code",
   "execution_count": 59,
   "metadata": {},
   "outputs": [],
   "source": [
    "# merge existing customers to their addresses\n",
    "df = demographics.merge(address, how='outer', on='customer_id')"
   ]
  },
  {
   "cell_type": "code",
   "execution_count": 60,
   "metadata": {},
   "outputs": [
    {
     "name": "stdout",
     "output_type": "stream",
     "text": [
      "<class 'pandas.core.frame.DataFrame'>\n",
      "Int64Index: 4003 entries, 0 to 4002\n",
      "Data columns (total 18 columns):\n",
      " #   Column                               Non-Null Count  Dtype   \n",
      "---  ------                               --------------  -----   \n",
      " 0   customer_id                          4003 non-null   int64   \n",
      " 1   first_name                           3999 non-null   object  \n",
      " 2   last_name                            3874 non-null   object  \n",
      " 3   gender                               3999 non-null   object  \n",
      " 4   past_3_years_bike_related_purchases  3999 non-null   float64 \n",
      " 5   job_title                            3493 non-null   object  \n",
      " 6   job_industry_category                3343 non-null   object  \n",
      " 7   wealth_segment                       3999 non-null   object  \n",
      " 8   deceased_indicator                   3999 non-null   object  \n",
      " 9   owns_car                             3999 non-null   object  \n",
      " 10  tenure                               3912 non-null   category\n",
      " 11  age                                  3912 non-null   category\n",
      " 12  address                              3999 non-null   object  \n",
      " 13  postcode                             3999 non-null   object  \n",
      " 14  state                                3999 non-null   object  \n",
      " 15  country                              3999 non-null   object  \n",
      " 16  property_valuation                   3999 non-null   float64 \n",
      " 17  region                               3999 non-null   object  \n",
      "dtypes: category(2), float64(2), int64(1), object(13)\n",
      "memory usage: 540.0+ KB\n"
     ]
    }
   ],
   "source": [
    "df.info()"
   ]
  },
  {
   "cell_type": "markdown",
   "metadata": {},
   "source": [
    "Now that we have cleaned and reformatted our data, we can now explore any trends or patterns. Let's save a copy of these cleaned datasets along with our cleaned new customer list."
   ]
  },
  {
   "cell_type": "code",
   "execution_count": 61,
   "metadata": {},
   "outputs": [],
   "source": [
    "with pd.ExcelWriter('KPMG_clean_data.xlsx') as writer:  \n",
    "    df.to_excel(writer, sheet_name='ExistingCustomerList', index=False)\n",
    "    transactions.to_excel(writer, sheet_name='Transactions', index=False)\n",
    "    new_customers1.to_excel(writer, sheet_name='NewCustomerList', index=False)"
   ]
  }
 ],
 "metadata": {
  "kernelspec": {
   "display_name": "Python 3",
   "language": "python",
   "name": "python3"
  },
  "language_info": {
   "codemirror_mode": {
    "name": "ipython",
    "version": 3
   },
   "file_extension": ".py",
   "mimetype": "text/x-python",
   "name": "python",
   "nbconvert_exporter": "python",
   "pygments_lexer": "ipython3",
   "version": "3.8.5"
  }
 },
 "nbformat": 4,
 "nbformat_minor": 4
}
