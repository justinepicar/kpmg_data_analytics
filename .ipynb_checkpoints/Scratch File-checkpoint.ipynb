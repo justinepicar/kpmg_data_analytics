{
 "cells": [
  {
   "cell_type": "code",
   "execution_count": null,
   "metadata": {},
   "outputs": [],
   "source": [
    "def feature_line_plot_by_transaction_date(feat):\n",
    "    \n",
    "    feature = df[feat].unique()\n",
    "\n",
    "    for f in feature:\n",
    "        counts = df.loc[df[feat] == f, 'transaction_date'].value_counts()\n",
    "        fig, axes = plt.subplots(1, 1, figsize=(10,10))\n",
    "        sns.lineplot(x=counts.index, y=counts.values)\n",
    "        plt.title(f'Transactions by date and {f} {feat}')\n",
    "        plt.show()"
   ]
  },
  {
   "cell_type": "code",
   "execution_count": null,
   "metadata": {},
   "outputs": [],
   "source": [
    "def transaction_date_lineplot(dt_feat, feat):\n",
    "    \n",
    "    plt_df = df.loc[:, [dt_feat, feat]]\n",
    "    plt_df[dt_feat] = pd.DatetimeIndex(plt_df[dt_feat]).month\n",
    "    plt_df['qty'] = 1\n",
    "    plt_df = plt_df.loc[:, [dt_feat, feat, 'qty']]\n",
    "    plt_grouped = plt_df.groupby([dt_feat, feat]).count().reset_index()\n",
    "    plt_wide = plt_grouped.pivot(dt_feat, feat, 'qty')\n",
    "    \n",
    "    fig, axes = plt.subplots(1, 1, figsize=(15,10))\n",
    "    sns.lineplot(data=plt_wide)\n",
    "    plt.title(f'{dt_feat} by {feat}')\n",
    "    axes.set_xticks(plt_df[dt_feat].value_counts().index.sort_values())\n",
    "    axes.set_xticklabels(month_index)\n",
    "    plt.savefig(f'Module 2/eda_graphs/{dt_feat}_by_{feat}.png', dpi=600)\n",
    "    plt.show()"
   ]
  }
 ],
 "metadata": {
  "kernelspec": {
   "display_name": "Python 3",
   "language": "python",
   "name": "python3"
  },
  "language_info": {
   "codemirror_mode": {
    "name": "ipython",
    "version": 3
   },
   "file_extension": ".py",
   "mimetype": "text/x-python",
   "name": "python",
   "nbconvert_exporter": "python",
   "pygments_lexer": "ipython3",
   "version": "3.8.5"
  }
 },
 "nbformat": 4,
 "nbformat_minor": 4
}
