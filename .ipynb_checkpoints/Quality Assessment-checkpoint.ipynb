{
 "cells": [
  {
   "cell_type": "code",
   "execution_count": 1,
   "metadata": {},
   "outputs": [],
   "source": [
    "import pandas as pd\n",
    "import numpy as np\n",
    "import matplotlib.pyplot as plt\n",
    "import seaborn as sns"
   ]
  },
  {
   "cell_type": "code",
   "execution_count": 8,
   "metadata": {},
   "outputs": [],
   "source": [
    "def plot_distributions(data):\n",
    "    \n",
    "    for i in data.columns:\n",
    "        _ = plt.subplots(nrows=1, ncols=1)\n",
    "        _ = sns.countplot(data=data, y=data[i], order=data[i].value_counts().index)\n",
    "        _ = plt.tight_layout()\n",
    "        _ = plt.show()\n",
    "        \n",
    "    return None"
   ]
  },
  {
   "cell_type": "code",
   "execution_count": 3,
   "metadata": {
    "scrolled": false
   },
   "outputs": [],
   "source": [
    "def data_overview(data):\n",
    "       \n",
    "    # print info with total rows, columns, and missing values\n",
    "    print(f'{data.info()}\\n')\n",
    "    \n",
    "    # print number of unique values\n",
    "    for i in data.columns:\n",
    "          print(f'{i} unique values: {len(data[i].unique())}')\n",
    "          \n",
    "    return None"
   ]
  },
  {
   "cell_type": "code",
   "execution_count": 4,
   "metadata": {},
   "outputs": [],
   "source": [
    "xlsx = pd.ExcelFile('KPMG_VI_New_raw_data_update_final.xlsx')\n",
    "transactions = pd.read_excel(xlsx, 'Transactions', header=[1])\n",
    "new_customers = pd.read_excel(xlsx, 'NewCustomerList', header=[1])\n",
    "demographics = pd.read_excel(xlsx, 'CustomerDemographic', header=[1])\n",
    "address = pd.read_excel(xlsx, 'CustomerAddress', header=[1])"
   ]
  },
  {
   "cell_type": "markdown",
   "metadata": {},
   "source": [
    "Before we use this dataset, we need to make a preliminary quality assessment using the following guidelines:\n",
    "\n",
    "- accuracy\n",
    "- completeness\n",
    "- consistency\n",
    "- currency\n",
    "- relevancy\n",
    "- validity\n",
    "- duplicates"
   ]
  },
  {
   "cell_type": "markdown",
   "metadata": {},
   "source": [
    "# TRANSACTIONS"
   ]
  },
  {
   "cell_type": "code",
   "execution_count": 6,
   "metadata": {},
   "outputs": [
    {
     "data": {
      "text/html": [
       "<div>\n",
       "<style scoped>\n",
       "    .dataframe tbody tr th:only-of-type {\n",
       "        vertical-align: middle;\n",
       "    }\n",
       "\n",
       "    .dataframe tbody tr th {\n",
       "        vertical-align: top;\n",
       "    }\n",
       "\n",
       "    .dataframe thead th {\n",
       "        text-align: right;\n",
       "    }\n",
       "</style>\n",
       "<table border=\"1\" class=\"dataframe\">\n",
       "  <thead>\n",
       "    <tr style=\"text-align: right;\">\n",
       "      <th></th>\n",
       "      <th>0</th>\n",
       "      <th>1</th>\n",
       "      <th>2</th>\n",
       "      <th>3</th>\n",
       "      <th>4</th>\n",
       "    </tr>\n",
       "  </thead>\n",
       "  <tbody>\n",
       "    <tr>\n",
       "      <th>transaction_id</th>\n",
       "      <td>1</td>\n",
       "      <td>2</td>\n",
       "      <td>3</td>\n",
       "      <td>4</td>\n",
       "      <td>5</td>\n",
       "    </tr>\n",
       "    <tr>\n",
       "      <th>product_id</th>\n",
       "      <td>2</td>\n",
       "      <td>3</td>\n",
       "      <td>37</td>\n",
       "      <td>88</td>\n",
       "      <td>78</td>\n",
       "    </tr>\n",
       "    <tr>\n",
       "      <th>customer_id</th>\n",
       "      <td>2950</td>\n",
       "      <td>3120</td>\n",
       "      <td>402</td>\n",
       "      <td>3135</td>\n",
       "      <td>787</td>\n",
       "    </tr>\n",
       "    <tr>\n",
       "      <th>transaction_date</th>\n",
       "      <td>2017-02-25 00:00:00</td>\n",
       "      <td>2017-05-21 00:00:00</td>\n",
       "      <td>2017-10-16 00:00:00</td>\n",
       "      <td>2017-08-31 00:00:00</td>\n",
       "      <td>2017-10-01 00:00:00</td>\n",
       "    </tr>\n",
       "    <tr>\n",
       "      <th>online_order</th>\n",
       "      <td>0</td>\n",
       "      <td>1</td>\n",
       "      <td>0</td>\n",
       "      <td>0</td>\n",
       "      <td>1</td>\n",
       "    </tr>\n",
       "    <tr>\n",
       "      <th>order_status</th>\n",
       "      <td>Approved</td>\n",
       "      <td>Approved</td>\n",
       "      <td>Approved</td>\n",
       "      <td>Approved</td>\n",
       "      <td>Approved</td>\n",
       "    </tr>\n",
       "    <tr>\n",
       "      <th>brand</th>\n",
       "      <td>Solex</td>\n",
       "      <td>Trek Bicycles</td>\n",
       "      <td>OHM Cycles</td>\n",
       "      <td>Norco Bicycles</td>\n",
       "      <td>Giant Bicycles</td>\n",
       "    </tr>\n",
       "    <tr>\n",
       "      <th>product_line</th>\n",
       "      <td>Standard</td>\n",
       "      <td>Standard</td>\n",
       "      <td>Standard</td>\n",
       "      <td>Standard</td>\n",
       "      <td>Standard</td>\n",
       "    </tr>\n",
       "    <tr>\n",
       "      <th>product_class</th>\n",
       "      <td>medium</td>\n",
       "      <td>medium</td>\n",
       "      <td>low</td>\n",
       "      <td>medium</td>\n",
       "      <td>medium</td>\n",
       "    </tr>\n",
       "    <tr>\n",
       "      <th>product_size</th>\n",
       "      <td>medium</td>\n",
       "      <td>large</td>\n",
       "      <td>medium</td>\n",
       "      <td>medium</td>\n",
       "      <td>large</td>\n",
       "    </tr>\n",
       "    <tr>\n",
       "      <th>list_price</th>\n",
       "      <td>71.49</td>\n",
       "      <td>2091.47</td>\n",
       "      <td>1793.43</td>\n",
       "      <td>1198.46</td>\n",
       "      <td>1765.3</td>\n",
       "    </tr>\n",
       "    <tr>\n",
       "      <th>standard_cost</th>\n",
       "      <td>53.62</td>\n",
       "      <td>388.92</td>\n",
       "      <td>248.82</td>\n",
       "      <td>381.1</td>\n",
       "      <td>709.48</td>\n",
       "    </tr>\n",
       "    <tr>\n",
       "      <th>product_first_sold_date</th>\n",
       "      <td>41245</td>\n",
       "      <td>41701</td>\n",
       "      <td>36361</td>\n",
       "      <td>36145</td>\n",
       "      <td>42226</td>\n",
       "    </tr>\n",
       "  </tbody>\n",
       "</table>\n",
       "</div>"
      ],
      "text/plain": [
       "                                           0                    1  \\\n",
       "transaction_id                             1                    2   \n",
       "product_id                                 2                    3   \n",
       "customer_id                             2950                 3120   \n",
       "transaction_date         2017-02-25 00:00:00  2017-05-21 00:00:00   \n",
       "online_order                               0                    1   \n",
       "order_status                        Approved             Approved   \n",
       "brand                                  Solex        Trek Bicycles   \n",
       "product_line                        Standard             Standard   \n",
       "product_class                         medium               medium   \n",
       "product_size                          medium                large   \n",
       "list_price                             71.49              2091.47   \n",
       "standard_cost                          53.62               388.92   \n",
       "product_first_sold_date                41245                41701   \n",
       "\n",
       "                                           2                    3  \\\n",
       "transaction_id                             3                    4   \n",
       "product_id                                37                   88   \n",
       "customer_id                              402                 3135   \n",
       "transaction_date         2017-10-16 00:00:00  2017-08-31 00:00:00   \n",
       "online_order                               0                    0   \n",
       "order_status                        Approved             Approved   \n",
       "brand                             OHM Cycles       Norco Bicycles   \n",
       "product_line                        Standard             Standard   \n",
       "product_class                            low               medium   \n",
       "product_size                          medium               medium   \n",
       "list_price                           1793.43              1198.46   \n",
       "standard_cost                         248.82                381.1   \n",
       "product_first_sold_date                36361                36145   \n",
       "\n",
       "                                           4  \n",
       "transaction_id                             5  \n",
       "product_id                                78  \n",
       "customer_id                              787  \n",
       "transaction_date         2017-10-01 00:00:00  \n",
       "online_order                               1  \n",
       "order_status                        Approved  \n",
       "brand                         Giant Bicycles  \n",
       "product_line                        Standard  \n",
       "product_class                         medium  \n",
       "product_size                           large  \n",
       "list_price                            1765.3  \n",
       "standard_cost                         709.48  \n",
       "product_first_sold_date                42226  "
      ]
     },
     "execution_count": 6,
     "metadata": {},
     "output_type": "execute_result"
    }
   ],
   "source": [
    "transactions.head().T"
   ]
  },
  {
   "cell_type": "code",
   "execution_count": 7,
   "metadata": {},
   "outputs": [
    {
     "name": "stdout",
     "output_type": "stream",
     "text": [
      "<class 'pandas.core.frame.DataFrame'>\n",
      "RangeIndex: 20000 entries, 0 to 19999\n",
      "Data columns (total 13 columns):\n",
      " #   Column                   Non-Null Count  Dtype         \n",
      "---  ------                   --------------  -----         \n",
      " 0   transaction_id           20000 non-null  int64         \n",
      " 1   product_id               20000 non-null  int64         \n",
      " 2   customer_id              20000 non-null  int64         \n",
      " 3   transaction_date         20000 non-null  datetime64[ns]\n",
      " 4   online_order             19640 non-null  float64       \n",
      " 5   order_status             20000 non-null  object        \n",
      " 6   brand                    19803 non-null  object        \n",
      " 7   product_line             19803 non-null  object        \n",
      " 8   product_class            19803 non-null  object        \n",
      " 9   product_size             19803 non-null  object        \n",
      " 10  list_price               20000 non-null  float64       \n",
      " 11  standard_cost            19803 non-null  float64       \n",
      " 12  product_first_sold_date  19803 non-null  float64       \n",
      "dtypes: datetime64[ns](1), float64(4), int64(3), object(5)\n",
      "memory usage: 2.0+ MB\n",
      "None\n",
      "\n",
      "transaction_id unique values: 20000\n",
      "product_id unique values: 101\n",
      "customer_id unique values: 3494\n",
      "transaction_date unique values: 364\n",
      "online_order unique values: 3\n",
      "order_status unique values: 2\n",
      "brand unique values: 7\n",
      "product_line unique values: 5\n",
      "product_class unique values: 4\n",
      "product_size unique values: 4\n",
      "list_price unique values: 296\n",
      "standard_cost unique values: 104\n",
      "product_first_sold_date unique values: 101\n"
     ]
    }
   ],
   "source": [
    "data_overview(transactions)"
   ]
  },
  {
   "cell_type": "code",
   "execution_count": 8,
   "metadata": {},
   "outputs": [
    {
     "name": "stdout",
     "output_type": "stream",
     "text": [
      "First date of transaction in dataset: 2017-01-01 00:00:00\n",
      "Last date of transaction in dataset: 2017-12-30 00:00:00\n"
     ]
    }
   ],
   "source": [
    "print(f\"First date of transaction in dataset: {min(transactions['transaction_date'])}\")\n",
    "print(f\"Last date of transaction in dataset: {max(transactions['transaction_date'])}\")"
   ]
  },
  {
   "cell_type": "code",
   "execution_count": 9,
   "metadata": {
    "scrolled": false
   },
   "outputs": [
    {
     "data": {
      "image/png": "[encoded data removed]",
      "text/plain": [
       "<Figure size 432x288 with 1 Axes>"
      ]
     },
     "metadata": {
      "needs_background": "light"
     },
     "output_type": "display_data"
    },
    {
     "data": {
      "image/png": "[encoded data removed]",
      "text/plain": [
       "<Figure size 432x288 with 1 Axes>"
      ]
     },
     "metadata": {
      "needs_background": "light"
     },
     "output_type": "display_data"
    },
    {
     "data": {
      "image/png": "[encoded data removed]",
      "text/plain": [
       "<Figure size 432x288 with 1 Axes>"
      ]
     },
     "metadata": {
      "needs_background": "light"
     },
     "output_type": "display_data"
    },
    {
     "data": {
      "image/png": "[encoded data removed]",
      "text/plain": [
       "<Figure size 432x288 with 1 Axes>"
      ]
     },
     "metadata": {
      "needs_background": "light"
     },
     "output_type": "display_data"
    },
    {
     "data": {
      "image/png": "[encoded data removed]",
      "text/plain": [
       "<Figure size 432x288 with 1 Axes>"
      ]
     },
     "metadata": {
      "needs_background": "light"
     },
     "output_type": "display_data"
    },
    {
     "data": {
      "image/png": "[encoded data removed]",
      "text/plain": [
       "<Figure size 432x288 with 1 Axes>"
      ]
     },
     "metadata": {
      "needs_background": "light"
     },
     "output_type": "display_data"
    }
   ],
   "source": [
    "features = ['online_order', 'order_status', 'brand', 'product_line', 'product_class', 'product_size']\n",
    "plot_distributions(transactions[features])"
   ]
  },
  {
   "cell_type": "markdown",
   "metadata": {},
   "source": [
    "We can immediately identify some issues:\n",
    "\n",
    "- missing data for online orders, brands, product line, and product size. These can be important features in determining general demand for a particular product or whether or not Sprocket should focus on online demand vs. in-store demand.\n",
    "- there are more than 3 month’s worth of transactional data. We will need to specify which 3 month intervals our team is supposed to take a look at and analyze or if we are expanding our scope to include all of 2017.\n",
    "- product_first_sold_date is not in a standard date format"
   ]
  },
  {
   "cell_type": "markdown",
   "metadata": {},
   "source": [
    "# DEMOGRAPHICS"
   ]
  },
  {
   "cell_type": "code",
   "execution_count": 10,
   "metadata": {},
   "outputs": [
    {
     "data": {
      "text/html": [
       "<div>\n",
       "<style scoped>\n",
       "    .dataframe tbody tr th:only-of-type {\n",
       "        vertical-align: middle;\n",
       "    }\n",
       "\n",
       "    .dataframe tbody tr th {\n",
       "        vertical-align: top;\n",
       "    }\n",
       "\n",
       "    .dataframe thead th {\n",
       "        text-align: right;\n",
       "    }\n",
       "</style>\n",
       "<table border=\"1\" class=\"dataframe\">\n",
       "  <thead>\n",
       "    <tr style=\"text-align: right;\">\n",
       "      <th></th>\n",
       "      <th>0</th>\n",
       "      <th>1</th>\n",
       "      <th>2</th>\n",
       "      <th>3</th>\n",
       "      <th>4</th>\n",
       "    </tr>\n",
       "  </thead>\n",
       "  <tbody>\n",
       "    <tr>\n",
       "      <th>customer_id</th>\n",
       "      <td>1</td>\n",
       "      <td>2</td>\n",
       "      <td>3</td>\n",
       "      <td>4</td>\n",
       "      <td>5</td>\n",
       "    </tr>\n",
       "    <tr>\n",
       "      <th>first_name</th>\n",
       "      <td>Laraine</td>\n",
       "      <td>Eli</td>\n",
       "      <td>Arlin</td>\n",
       "      <td>Talbot</td>\n",
       "      <td>Sheila-kathryn</td>\n",
       "    </tr>\n",
       "    <tr>\n",
       "      <th>last_name</th>\n",
       "      <td>Medendorp</td>\n",
       "      <td>Bockman</td>\n",
       "      <td>Dearle</td>\n",
       "      <td>NaN</td>\n",
       "      <td>Calton</td>\n",
       "    </tr>\n",
       "    <tr>\n",
       "      <th>gender</th>\n",
       "      <td>F</td>\n",
       "      <td>Male</td>\n",
       "      <td>Male</td>\n",
       "      <td>Male</td>\n",
       "      <td>Female</td>\n",
       "    </tr>\n",
       "    <tr>\n",
       "      <th>past_3_years_bike_related_purchases</th>\n",
       "      <td>93</td>\n",
       "      <td>81</td>\n",
       "      <td>61</td>\n",
       "      <td>33</td>\n",
       "      <td>56</td>\n",
       "    </tr>\n",
       "    <tr>\n",
       "      <th>DOB</th>\n",
       "      <td>1953-10-12 00:00:00</td>\n",
       "      <td>1980-12-16 00:00:00</td>\n",
       "      <td>1954-01-20 00:00:00</td>\n",
       "      <td>1961-10-03 00:00:00</td>\n",
       "      <td>1977-05-13 00:00:00</td>\n",
       "    </tr>\n",
       "    <tr>\n",
       "      <th>job_title</th>\n",
       "      <td>Executive Secretary</td>\n",
       "      <td>Administrative Officer</td>\n",
       "      <td>Recruiting Manager</td>\n",
       "      <td>NaN</td>\n",
       "      <td>Senior Editor</td>\n",
       "    </tr>\n",
       "    <tr>\n",
       "      <th>job_industry_category</th>\n",
       "      <td>Health</td>\n",
       "      <td>Financial Services</td>\n",
       "      <td>Property</td>\n",
       "      <td>IT</td>\n",
       "      <td>NaN</td>\n",
       "    </tr>\n",
       "    <tr>\n",
       "      <th>wealth_segment</th>\n",
       "      <td>Mass Customer</td>\n",
       "      <td>Mass Customer</td>\n",
       "      <td>Mass Customer</td>\n",
       "      <td>Mass Customer</td>\n",
       "      <td>Affluent Customer</td>\n",
       "    </tr>\n",
       "    <tr>\n",
       "      <th>deceased_indicator</th>\n",
       "      <td>N</td>\n",
       "      <td>N</td>\n",
       "      <td>N</td>\n",
       "      <td>N</td>\n",
       "      <td>N</td>\n",
       "    </tr>\n",
       "    <tr>\n",
       "      <th>default</th>\n",
       "      <td>\"'</td>\n",
       "      <td>&lt;script&gt;alert('hi')&lt;/script&gt;</td>\n",
       "      <td>2018-02-01 00:00:00</td>\n",
       "      <td>() { _; } &gt;_[$($())] { touch /tmp/blns.shellsh...</td>\n",
       "      <td>NIL</td>\n",
       "    </tr>\n",
       "    <tr>\n",
       "      <th>owns_car</th>\n",
       "      <td>Yes</td>\n",
       "      <td>Yes</td>\n",
       "      <td>Yes</td>\n",
       "      <td>No</td>\n",
       "      <td>Yes</td>\n",
       "    </tr>\n",
       "    <tr>\n",
       "      <th>tenure</th>\n",
       "      <td>11</td>\n",
       "      <td>16</td>\n",
       "      <td>15</td>\n",
       "      <td>7</td>\n",
       "      <td>8</td>\n",
       "    </tr>\n",
       "  </tbody>\n",
       "</table>\n",
       "</div>"
      ],
      "text/plain": [
       "                                                       0  \\\n",
       "customer_id                                            1   \n",
       "first_name                                       Laraine   \n",
       "last_name                                      Medendorp   \n",
       "gender                                                 F   \n",
       "past_3_years_bike_related_purchases                   93   \n",
       "DOB                                  1953-10-12 00:00:00   \n",
       "job_title                            Executive Secretary   \n",
       "job_industry_category                             Health   \n",
       "wealth_segment                             Mass Customer   \n",
       "deceased_indicator                                     N   \n",
       "default                                               \"'   \n",
       "owns_car                                             Yes   \n",
       "tenure                                                11   \n",
       "\n",
       "                                                                1  \\\n",
       "customer_id                                                     2   \n",
       "first_name                                                    Eli   \n",
       "last_name                                                 Bockman   \n",
       "gender                                                       Male   \n",
       "past_3_years_bike_related_purchases                            81   \n",
       "DOB                                           1980-12-16 00:00:00   \n",
       "job_title                                  Administrative Officer   \n",
       "job_industry_category                          Financial Services   \n",
       "wealth_segment                                      Mass Customer   \n",
       "deceased_indicator                                              N   \n",
       "default                              <script>alert('hi')</script>   \n",
       "owns_car                                                      Yes   \n",
       "tenure                                                         16   \n",
       "\n",
       "                                                       2  \\\n",
       "customer_id                                            3   \n",
       "first_name                                         Arlin   \n",
       "last_name                                         Dearle   \n",
       "gender                                              Male   \n",
       "past_3_years_bike_related_purchases                   61   \n",
       "DOB                                  1954-01-20 00:00:00   \n",
       "job_title                             Recruiting Manager   \n",
       "job_industry_category                           Property   \n",
       "wealth_segment                             Mass Customer   \n",
       "deceased_indicator                                     N   \n",
       "default                              2018-02-01 00:00:00   \n",
       "owns_car                                             Yes   \n",
       "tenure                                                15   \n",
       "\n",
       "                                                                                     3  \\\n",
       "customer_id                                                                          4   \n",
       "first_name                                                                      Talbot   \n",
       "last_name                                                                          NaN   \n",
       "gender                                                                            Male   \n",
       "past_3_years_bike_related_purchases                                                 33   \n",
       "DOB                                                                1961-10-03 00:00:00   \n",
       "job_title                                                                          NaN   \n",
       "job_industry_category                                                               IT   \n",
       "wealth_segment                                                           Mass Customer   \n",
       "deceased_indicator                                                                   N   \n",
       "default                              () { _; } >_[$($())] { touch /tmp/blns.shellsh...   \n",
       "owns_car                                                                            No   \n",
       "tenure                                                                               7   \n",
       "\n",
       "                                                       4  \n",
       "customer_id                                            5  \n",
       "first_name                                Sheila-kathryn  \n",
       "last_name                                         Calton  \n",
       "gender                                            Female  \n",
       "past_3_years_bike_related_purchases                   56  \n",
       "DOB                                  1977-05-13 00:00:00  \n",
       "job_title                                  Senior Editor  \n",
       "job_industry_category                                NaN  \n",
       "wealth_segment                         Affluent Customer  \n",
       "deceased_indicator                                     N  \n",
       "default                                              NIL  \n",
       "owns_car                                             Yes  \n",
       "tenure                                                 8  "
      ]
     },
     "execution_count": 10,
     "metadata": {},
     "output_type": "execute_result"
    }
   ],
   "source": [
    "demographics.head().T"
   ]
  },
  {
   "cell_type": "code",
   "execution_count": 11,
   "metadata": {
    "scrolled": false
   },
   "outputs": [
    {
     "name": "stdout",
     "output_type": "stream",
     "text": [
      "<class 'pandas.core.frame.DataFrame'>\n",
      "RangeIndex: 4000 entries, 0 to 3999\n",
      "Data columns (total 13 columns):\n",
      " #   Column                               Non-Null Count  Dtype         \n",
      "---  ------                               --------------  -----         \n",
      " 0   customer_id                          4000 non-null   int64         \n",
      " 1   first_name                           4000 non-null   object        \n",
      " 2   last_name                            3875 non-null   object        \n",
      " 3   gender                               4000 non-null   object        \n",
      " 4   past_3_years_bike_related_purchases  4000 non-null   int64         \n",
      " 5   DOB                                  3913 non-null   datetime64[ns]\n",
      " 6   job_title                            3494 non-null   object        \n",
      " 7   job_industry_category                3344 non-null   object        \n",
      " 8   wealth_segment                       4000 non-null   object        \n",
      " 9   deceased_indicator                   4000 non-null   object        \n",
      " 10  default                              3698 non-null   object        \n",
      " 11  owns_car                             4000 non-null   object        \n",
      " 12  tenure                               3913 non-null   float64       \n",
      "dtypes: datetime64[ns](1), float64(1), int64(2), object(9)\n",
      "memory usage: 406.4+ KB\n",
      "None\n",
      "\n",
      "customer_id unique values: 4000\n",
      "first_name unique values: 3139\n",
      "last_name unique values: 3726\n",
      "gender unique values: 6\n",
      "past_3_years_bike_related_purchases unique values: 100\n",
      "DOB unique values: 3449\n",
      "job_title unique values: 196\n",
      "job_industry_category unique values: 10\n",
      "wealth_segment unique values: 3\n",
      "deceased_indicator unique values: 2\n",
      "default unique values: 91\n",
      "owns_car unique values: 2\n",
      "tenure unique values: 23\n"
     ]
    }
   ],
   "source": [
    "data_overview(demographics)"
   ]
  },
  {
   "cell_type": "code",
   "execution_count": 12,
   "metadata": {},
   "outputs": [
    {
     "name": "stdout",
     "output_type": "stream",
     "text": [
      "Earliest DOB: 1843-12-21 00:00:00\n",
      "Latest DOB: 2002-03-11 00:00:00\n"
     ]
    }
   ],
   "source": [
    "print(f'Earliest DOB: {min(demographics.DOB)}')\n",
    "print(f'Latest DOB: {max(demographics.DOB)}')"
   ]
  },
  {
   "cell_type": "code",
   "execution_count": 30,
   "metadata": {
    "scrolled": false
   },
   "outputs": [
    {
     "data": {
      "image/png": "[encoded data removed]",
      "text/plain": [
       "<Figure size 1080x720 with 1 Axes>"
      ]
     },
     "metadata": {
      "needs_background": "light"
     },
     "output_type": "display_data"
    }
   ],
   "source": [
    "top10 = demographics.job_title.value_counts().head(10)\n",
    "\n",
    "plt.figure(figsize=(15,10))\n",
    "sns.barplot(y=top10.index, x=top10.values)\n",
    "plt.title('Top 10 Job Titles Purchasing Bikes')\n",
    "plt.xlabel('Count')\n",
    "plt.show()"
   ]
  },
  {
   "cell_type": "code",
   "execution_count": 14,
   "metadata": {
    "scrolled": false
   },
   "outputs": [
    {
     "data": {
      "image/png": "[encoded data removed]",
      "text/plain": [
       "<Figure size 432x288 with 1 Axes>"
      ]
     },
     "metadata": {
      "needs_background": "light"
     },
     "output_type": "display_data"
    },
    {
     "data": {
      "image/png": "[encoded data removed]",
      "text/plain": [
       "<Figure size 432x288 with 1 Axes>"
      ]
     },
     "metadata": {
      "needs_background": "light"
     },
     "output_type": "display_data"
    },
    {
     "data": {
      "image/png": "[encoded data removed]",
      "text/plain": [
       "<Figure size 432x288 with 1 Axes>"
      ]
     },
     "metadata": {
      "needs_background": "light"
     },
     "output_type": "display_data"
    },
    {
     "data": {
      "image/png": "[encoded data removed]",
      "text/plain": [
       "<Figure size 432x288 with 1 Axes>"
      ]
     },
     "metadata": {
      "needs_background": "light"
     },
     "output_type": "display_data"
    },
    {
     "data": {
      "image/png": "[encoded data removed]",
      "text/plain": [
       "<Figure size 432x288 with 1 Axes>"
      ]
     },
     "metadata": {
      "needs_background": "light"
     },
     "output_type": "display_data"
    }
   ],
   "source": [
    "features = ['gender', 'job_industry_category', 'wealth_segment', 'deceased_indicator', 'owns_car']\n",
    "plot_distributions(demographics[features])"
   ]
  },
  {
   "cell_type": "markdown",
   "metadata": {},
   "source": [
    "We can see the following issues:\n",
    "\n",
    "- The genders and states are written in multiple formats/contain typos and creating duplicates when tables are merged with Customer Addresses. The formatting needs to be streamlined in order to properly process the data. There is also another unidentifiable value, ‘U’\n",
    "- There is a value under date of birth that has been inputted correctly. It says that the oldest user was born in 1843. \n",
    "- There are users who are missing information regarding date of birth, tenure, job industry, and job titles. This information may be useful to have in determining and predicting target markets for purchasing bikes as we go into phase two of our analysis. These all point to potential salary ranges which could useful in determining what segments of customer buy bikes based on income. \n",
    "- Unlike the new customer list, there are no columns detailing rank or value. There is no explicit description describing what this is measuring and we will need Sprocket to clarify if this is a feature they would like to include. If so, we will need the rank and value descriptions as well as information for existing customers.\n",
    "- There is a default column filled with unknown characters. Since we don't know what this was meant to represent, we cannot use this as a relevant feature to help us"
   ]
  },
  {
   "cell_type": "markdown",
   "metadata": {},
   "source": [
    "# ADDRESSES"
   ]
  },
  {
   "cell_type": "code",
   "execution_count": 32,
   "metadata": {},
   "outputs": [
    {
     "data": {
      "text/html": [
       "<div>\n",
       "<style scoped>\n",
       "    .dataframe tbody tr th:only-of-type {\n",
       "        vertical-align: middle;\n",
       "    }\n",
       "\n",
       "    .dataframe tbody tr th {\n",
       "        vertical-align: top;\n",
       "    }\n",
       "\n",
       "    .dataframe thead th {\n",
       "        text-align: right;\n",
       "    }\n",
       "</style>\n",
       "<table border=\"1\" class=\"dataframe\">\n",
       "  <thead>\n",
       "    <tr style=\"text-align: right;\">\n",
       "      <th></th>\n",
       "      <th>customer_id</th>\n",
       "      <th>address</th>\n",
       "      <th>postcode</th>\n",
       "      <th>state</th>\n",
       "      <th>country</th>\n",
       "      <th>property_valuation</th>\n",
       "    </tr>\n",
       "  </thead>\n",
       "  <tbody>\n",
       "    <tr>\n",
       "      <th>0</th>\n",
       "      <td>1</td>\n",
       "      <td>060 Morning Avenue</td>\n",
       "      <td>2016</td>\n",
       "      <td>New South Wales</td>\n",
       "      <td>Australia</td>\n",
       "      <td>10</td>\n",
       "    </tr>\n",
       "    <tr>\n",
       "      <th>1</th>\n",
       "      <td>2</td>\n",
       "      <td>6 Meadow Vale Court</td>\n",
       "      <td>2153</td>\n",
       "      <td>New South Wales</td>\n",
       "      <td>Australia</td>\n",
       "      <td>10</td>\n",
       "    </tr>\n",
       "    <tr>\n",
       "      <th>2</th>\n",
       "      <td>4</td>\n",
       "      <td>0 Holy Cross Court</td>\n",
       "      <td>4211</td>\n",
       "      <td>QLD</td>\n",
       "      <td>Australia</td>\n",
       "      <td>9</td>\n",
       "    </tr>\n",
       "    <tr>\n",
       "      <th>3</th>\n",
       "      <td>5</td>\n",
       "      <td>17979 Del Mar Point</td>\n",
       "      <td>2448</td>\n",
       "      <td>New South Wales</td>\n",
       "      <td>Australia</td>\n",
       "      <td>4</td>\n",
       "    </tr>\n",
       "    <tr>\n",
       "      <th>4</th>\n",
       "      <td>6</td>\n",
       "      <td>9 Oakridge Court</td>\n",
       "      <td>3216</td>\n",
       "      <td>VIC</td>\n",
       "      <td>Australia</td>\n",
       "      <td>9</td>\n",
       "    </tr>\n",
       "  </tbody>\n",
       "</table>\n",
       "</div>"
      ],
      "text/plain": [
       "   customer_id              address  postcode            state    country  \\\n",
       "0            1   060 Morning Avenue      2016  New South Wales  Australia   \n",
       "1            2  6 Meadow Vale Court      2153  New South Wales  Australia   \n",
       "2            4   0 Holy Cross Court      4211              QLD  Australia   \n",
       "3            5  17979 Del Mar Point      2448  New South Wales  Australia   \n",
       "4            6     9 Oakridge Court      3216              VIC  Australia   \n",
       "\n",
       "   property_valuation  \n",
       "0                  10  \n",
       "1                  10  \n",
       "2                   9  \n",
       "3                   4  \n",
       "4                   9  "
      ]
     },
     "execution_count": 32,
     "metadata": {},
     "output_type": "execute_result"
    }
   ],
   "source": [
    "address.head()"
   ]
  },
  {
   "cell_type": "code",
   "execution_count": 33,
   "metadata": {},
   "outputs": [
    {
     "name": "stdout",
     "output_type": "stream",
     "text": [
      "<class 'pandas.core.frame.DataFrame'>\n",
      "RangeIndex: 3999 entries, 0 to 3998\n",
      "Data columns (total 6 columns):\n",
      " #   Column              Non-Null Count  Dtype \n",
      "---  ------              --------------  ----- \n",
      " 0   customer_id         3999 non-null   int64 \n",
      " 1   address             3999 non-null   object\n",
      " 2   postcode            3999 non-null   int64 \n",
      " 3   state               3999 non-null   object\n",
      " 4   country             3999 non-null   object\n",
      " 5   property_valuation  3999 non-null   int64 \n",
      "dtypes: int64(3), object(3)\n",
      "memory usage: 187.6+ KB\n",
      "None\n",
      "\n",
      "customer_id unique values: 3999\n",
      "address unique values: 3996\n",
      "postcode unique values: 873\n",
      "state unique values: 5\n",
      "country unique values: 1\n",
      "property_valuation unique values: 12\n"
     ]
    }
   ],
   "source": [
    "data_overview(address)"
   ]
  },
  {
   "cell_type": "code",
   "execution_count": 38,
   "metadata": {},
   "outputs": [
    {
     "data": {
      "text/plain": [
       "Int64Index([2170, 2155, 2145, 2153, 2770, 3977, 2560, 2065, 2148, 2763], dtype='int64')"
      ]
     },
     "execution_count": 38,
     "metadata": {},
     "output_type": "execute_result"
    }
   ],
   "source": [
    "top10.index"
   ]
  },
  {
   "cell_type": "code",
   "execution_count": 40,
   "metadata": {},
   "outputs": [
    {
     "data": {
      "image/png": "[encoded data removed]",
      "text/plain": [
       "<Figure size 1080x720 with 1 Axes>"
      ]
     },
     "metadata": {
      "needs_background": "light"
     },
     "output_type": "display_data"
    }
   ],
   "source": [
    "top10 = address.postcode.value_counts(ascending=False).head(10)\n",
    "\n",
    "plt.figure(figsize=(15,10))\n",
    "sns.barplot(x=top10.index, y=top10.values)\n",
    "plt.title('Top 10 Postal Code for Bike and Cycling Purchases')\n",
    "plt.xlabel('Postal Code')\n",
    "plt.ylabel('Count')\n",
    "plt.show()"
   ]
  },
  {
   "cell_type": "code",
   "execution_count": 37,
   "metadata": {
    "scrolled": false
   },
   "outputs": [
    {
     "data": {
      "image/png": "[encoded data removed]",
      "text/plain": [
       "<Figure size 432x288 with 1 Axes>"
      ]
     },
     "metadata": {
      "needs_background": "light"
     },
     "output_type": "display_data"
    },
    {
     "data": {
      "image/png": "[encoded data removed]",
      "text/plain": [
       "<Figure size 432x288 with 1 Axes>"
      ]
     },
     "metadata": {
      "needs_background": "light"
     },
     "output_type": "display_data"
    },
    {
     "data": {
      "image/png": "[encoded data removed]",
      "text/plain": [
       "<Figure size 432x288 with 1 Axes>"
      ]
     },
     "metadata": {
      "needs_background": "light"
     },
     "output_type": "display_data"
    }
   ],
   "source": [
    "features = ['state', 'country', 'property_valuation']\n",
    "plot_distributions(address[features])"
   ]
  },
  {
   "cell_type": "markdown",
   "metadata": {},
   "source": [
    "We can see the following issues: \n",
    "\n",
    "- The states are not formatted consistently. This formatting needs to be streamlined in order to properly process the data and avoid duplicates.\n",
    "- Not all customers under the existing customer list have provided a postal code, or state which could have been useful in segmenting which locations are more likely to purchase bikes. \n",
    "- It may not be relevant to have a customer’s specific street number or country since all transactions take place in Australia. We only really need a general location such as postal code to get an idea of property values as this can potentially be an important feature in determining our market segment.\n",
    "- It is also unclear what property_valuation is measured as. Is this a ranking or is it property worth? If so, is this in the hundreds of thousands or millions?"
   ]
  },
  {
   "cell_type": "markdown",
   "metadata": {},
   "source": [
    "# NEW CUSTOMERS"
   ]
  },
  {
   "cell_type": "code",
   "execution_count": 41,
   "metadata": {},
   "outputs": [
    {
     "data": {
      "text/html": [
       "<div>\n",
       "<style scoped>\n",
       "    .dataframe tbody tr th:only-of-type {\n",
       "        vertical-align: middle;\n",
       "    }\n",
       "\n",
       "    .dataframe tbody tr th {\n",
       "        vertical-align: top;\n",
       "    }\n",
       "\n",
       "    .dataframe thead th {\n",
       "        text-align: right;\n",
       "    }\n",
       "</style>\n",
       "<table border=\"1\" class=\"dataframe\">\n",
       "  <thead>\n",
       "    <tr style=\"text-align: right;\">\n",
       "      <th></th>\n",
       "      <th>first_name</th>\n",
       "      <th>last_name</th>\n",
       "      <th>gender</th>\n",
       "      <th>past_3_years_bike_related_purchases</th>\n",
       "      <th>DOB</th>\n",
       "      <th>job_title</th>\n",
       "      <th>job_industry_category</th>\n",
       "      <th>wealth_segment</th>\n",
       "      <th>deceased_indicator</th>\n",
       "      <th>owns_car</th>\n",
       "      <th>...</th>\n",
       "      <th>state</th>\n",
       "      <th>country</th>\n",
       "      <th>property_valuation</th>\n",
       "      <th>Unnamed: 16</th>\n",
       "      <th>Unnamed: 17</th>\n",
       "      <th>Unnamed: 18</th>\n",
       "      <th>Unnamed: 19</th>\n",
       "      <th>Unnamed: 20</th>\n",
       "      <th>Rank</th>\n",
       "      <th>Value</th>\n",
       "    </tr>\n",
       "  </thead>\n",
       "  <tbody>\n",
       "    <tr>\n",
       "      <th>0</th>\n",
       "      <td>Chickie</td>\n",
       "      <td>Brister</td>\n",
       "      <td>Male</td>\n",
       "      <td>86</td>\n",
       "      <td>1957-07-12</td>\n",
       "      <td>General Manager</td>\n",
       "      <td>Manufacturing</td>\n",
       "      <td>Mass Customer</td>\n",
       "      <td>N</td>\n",
       "      <td>Yes</td>\n",
       "      <td>...</td>\n",
       "      <td>QLD</td>\n",
       "      <td>Australia</td>\n",
       "      <td>6</td>\n",
       "      <td>0.91</td>\n",
       "      <td>1.1375</td>\n",
       "      <td>1.421875</td>\n",
       "      <td>1.208594</td>\n",
       "      <td>1</td>\n",
       "      <td>1</td>\n",
       "      <td>1.718750</td>\n",
       "    </tr>\n",
       "    <tr>\n",
       "      <th>1</th>\n",
       "      <td>Morly</td>\n",
       "      <td>Genery</td>\n",
       "      <td>Male</td>\n",
       "      <td>69</td>\n",
       "      <td>1970-03-22</td>\n",
       "      <td>Structural Engineer</td>\n",
       "      <td>Property</td>\n",
       "      <td>Mass Customer</td>\n",
       "      <td>N</td>\n",
       "      <td>No</td>\n",
       "      <td>...</td>\n",
       "      <td>NSW</td>\n",
       "      <td>Australia</td>\n",
       "      <td>11</td>\n",
       "      <td>0.83</td>\n",
       "      <td>0.8300</td>\n",
       "      <td>1.037500</td>\n",
       "      <td>0.881875</td>\n",
       "      <td>1</td>\n",
       "      <td>1</td>\n",
       "      <td>1.718750</td>\n",
       "    </tr>\n",
       "    <tr>\n",
       "      <th>2</th>\n",
       "      <td>Ardelis</td>\n",
       "      <td>Forrester</td>\n",
       "      <td>Female</td>\n",
       "      <td>10</td>\n",
       "      <td>1974-08-28</td>\n",
       "      <td>Senior Cost Accountant</td>\n",
       "      <td>Financial Services</td>\n",
       "      <td>Affluent Customer</td>\n",
       "      <td>N</td>\n",
       "      <td>No</td>\n",
       "      <td>...</td>\n",
       "      <td>VIC</td>\n",
       "      <td>Australia</td>\n",
       "      <td>5</td>\n",
       "      <td>0.73</td>\n",
       "      <td>0.7300</td>\n",
       "      <td>0.730000</td>\n",
       "      <td>0.730000</td>\n",
       "      <td>1</td>\n",
       "      <td>1</td>\n",
       "      <td>1.718750</td>\n",
       "    </tr>\n",
       "    <tr>\n",
       "      <th>3</th>\n",
       "      <td>Lucine</td>\n",
       "      <td>Stutt</td>\n",
       "      <td>Female</td>\n",
       "      <td>64</td>\n",
       "      <td>1979-01-28</td>\n",
       "      <td>Account Representative III</td>\n",
       "      <td>Manufacturing</td>\n",
       "      <td>Affluent Customer</td>\n",
       "      <td>N</td>\n",
       "      <td>Yes</td>\n",
       "      <td>...</td>\n",
       "      <td>QLD</td>\n",
       "      <td>Australia</td>\n",
       "      <td>1</td>\n",
       "      <td>0.56</td>\n",
       "      <td>0.7000</td>\n",
       "      <td>0.700000</td>\n",
       "      <td>0.700000</td>\n",
       "      <td>4</td>\n",
       "      <td>4</td>\n",
       "      <td>1.703125</td>\n",
       "    </tr>\n",
       "    <tr>\n",
       "      <th>4</th>\n",
       "      <td>Melinda</td>\n",
       "      <td>Hadlee</td>\n",
       "      <td>Female</td>\n",
       "      <td>34</td>\n",
       "      <td>1965-09-21</td>\n",
       "      <td>Financial Analyst</td>\n",
       "      <td>Financial Services</td>\n",
       "      <td>Affluent Customer</td>\n",
       "      <td>N</td>\n",
       "      <td>No</td>\n",
       "      <td>...</td>\n",
       "      <td>NSW</td>\n",
       "      <td>Australia</td>\n",
       "      <td>9</td>\n",
       "      <td>1.03</td>\n",
       "      <td>1.0300</td>\n",
       "      <td>1.287500</td>\n",
       "      <td>1.287500</td>\n",
       "      <td>4</td>\n",
       "      <td>4</td>\n",
       "      <td>1.703125</td>\n",
       "    </tr>\n",
       "  </tbody>\n",
       "</table>\n",
       "<p>5 rows × 23 columns</p>\n",
       "</div>"
      ],
      "text/plain": [
       "  first_name  last_name  gender  past_3_years_bike_related_purchases  \\\n",
       "0    Chickie    Brister    Male                                   86   \n",
       "1      Morly     Genery    Male                                   69   \n",
       "2    Ardelis  Forrester  Female                                   10   \n",
       "3     Lucine      Stutt  Female                                   64   \n",
       "4    Melinda     Hadlee  Female                                   34   \n",
       "\n",
       "         DOB                   job_title job_industry_category  \\\n",
       "0 1957-07-12             General Manager         Manufacturing   \n",
       "1 1970-03-22         Structural Engineer              Property   \n",
       "2 1974-08-28      Senior Cost Accountant    Financial Services   \n",
       "3 1979-01-28  Account Representative III         Manufacturing   \n",
       "4 1965-09-21           Financial Analyst    Financial Services   \n",
       "\n",
       "      wealth_segment deceased_indicator owns_car  ...  state    country  \\\n",
       "0      Mass Customer                  N      Yes  ...    QLD  Australia   \n",
       "1      Mass Customer                  N       No  ...    NSW  Australia   \n",
       "2  Affluent Customer                  N       No  ...    VIC  Australia   \n",
       "3  Affluent Customer                  N      Yes  ...    QLD  Australia   \n",
       "4  Affluent Customer                  N       No  ...    NSW  Australia   \n",
       "\n",
       "   property_valuation Unnamed: 16 Unnamed: 17  Unnamed: 18  Unnamed: 19  \\\n",
       "0                   6        0.91      1.1375     1.421875     1.208594   \n",
       "1                  11        0.83      0.8300     1.037500     0.881875   \n",
       "2                   5        0.73      0.7300     0.730000     0.730000   \n",
       "3                   1        0.56      0.7000     0.700000     0.700000   \n",
       "4                   9        1.03      1.0300     1.287500     1.287500   \n",
       "\n",
       "   Unnamed: 20  Rank     Value  \n",
       "0            1     1  1.718750  \n",
       "1            1     1  1.718750  \n",
       "2            1     1  1.718750  \n",
       "3            4     4  1.703125  \n",
       "4            4     4  1.703125  \n",
       "\n",
       "[5 rows x 23 columns]"
      ]
     },
     "execution_count": 41,
     "metadata": {},
     "output_type": "execute_result"
    }
   ],
   "source": [
    "new_customers.head()"
   ]
  },
  {
   "cell_type": "code",
   "execution_count": 42,
   "metadata": {},
   "outputs": [
    {
     "name": "stdout",
     "output_type": "stream",
     "text": [
      "<class 'pandas.core.frame.DataFrame'>\n",
      "RangeIndex: 1000 entries, 0 to 999\n",
      "Data columns (total 23 columns):\n",
      " #   Column                               Non-Null Count  Dtype         \n",
      "---  ------                               --------------  -----         \n",
      " 0   first_name                           1000 non-null   object        \n",
      " 1   last_name                            971 non-null    object        \n",
      " 2   gender                               1000 non-null   object        \n",
      " 3   past_3_years_bike_related_purchases  1000 non-null   int64         \n",
      " 4   DOB                                  983 non-null    datetime64[ns]\n",
      " 5   job_title                            894 non-null    object        \n",
      " 6   job_industry_category                835 non-null    object        \n",
      " 7   wealth_segment                       1000 non-null   object        \n",
      " 8   deceased_indicator                   1000 non-null   object        \n",
      " 9   owns_car                             1000 non-null   object        \n",
      " 10  tenure                               1000 non-null   int64         \n",
      " 11  address                              1000 non-null   object        \n",
      " 12  postcode                             1000 non-null   int64         \n",
      " 13  state                                1000 non-null   object        \n",
      " 14  country                              1000 non-null   object        \n",
      " 15  property_valuation                   1000 non-null   int64         \n",
      " 16  Unnamed: 16                          1000 non-null   float64       \n",
      " 17  Unnamed: 17                          1000 non-null   float64       \n",
      " 18  Unnamed: 18                          1000 non-null   float64       \n",
      " 19  Unnamed: 19                          1000 non-null   float64       \n",
      " 20  Unnamed: 20                          1000 non-null   int64         \n",
      " 21  Rank                                 1000 non-null   int64         \n",
      " 22  Value                                1000 non-null   float64       \n",
      "dtypes: datetime64[ns](1), float64(5), int64(6), object(11)\n",
      "memory usage: 179.8+ KB\n",
      "None\n",
      "\n",
      "first_name unique values: 940\n",
      "last_name unique values: 962\n",
      "gender unique values: 3\n",
      "past_3_years_bike_related_purchases unique values: 100\n",
      "DOB unique values: 959\n",
      "job_title unique values: 185\n",
      "job_industry_category unique values: 10\n",
      "wealth_segment unique values: 3\n",
      "deceased_indicator unique values: 1\n",
      "owns_car unique values: 2\n",
      "tenure unique values: 23\n",
      "address unique values: 1000\n",
      "postcode unique values: 522\n",
      "state unique values: 3\n",
      "country unique values: 1\n",
      "property_valuation unique values: 12\n",
      "Unnamed: 16 unique values: 71\n",
      "Unnamed: 17 unique values: 132\n",
      "Unnamed: 18 unique values: 186\n",
      "Unnamed: 19 unique values: 329\n",
      "Unnamed: 20 unique values: 324\n",
      "Rank unique values: 324\n",
      "Value unique values: 324\n"
     ]
    }
   ],
   "source": [
    "data_overview(new_customers)"
   ]
  },
  {
   "cell_type": "code",
   "execution_count": 43,
   "metadata": {},
   "outputs": [
    {
     "name": "stdout",
     "output_type": "stream",
     "text": [
      "Earliest DOB: 1938-06-08 00:00:00\n",
      "Latest DOB: 2002-02-27 00:00:00\n"
     ]
    }
   ],
   "source": [
    "print(f'Earliest DOB: {min(new_customers.DOB)}')\n",
    "print(f'Latest DOB: {max(new_customers.DOB)}')"
   ]
  },
  {
   "cell_type": "code",
   "execution_count": 44,
   "metadata": {
    "scrolled": false
   },
   "outputs": [
    {
     "data": {
      "image/png": "[encoded data removed]",
      "text/plain": [
       "<Figure size 432x288 with 1 Axes>"
      ]
     },
     "metadata": {
      "needs_background": "light"
     },
     "output_type": "display_data"
    },
    {
     "data": {
      "image/png": "[encoded data removed]",
      "text/plain": [
       "<Figure size 432x288 with 1 Axes>"
      ]
     },
     "metadata": {
      "needs_background": "light"
     },
     "output_type": "display_data"
    },
    {
     "data": {
      "image/png": "[encoded data removed]",
      "text/plain": [
       "<Figure size 432x288 with 1 Axes>"
      ]
     },
     "metadata": {
      "needs_background": "light"
     },
     "output_type": "display_data"
    },
    {
     "data": {
      "image/png": "[encoded data removed]",
      "text/plain": [
       "<Figure size 432x288 with 1 Axes>"
      ]
     },
     "metadata": {
      "needs_background": "light"
     },
     "output_type": "display_data"
    },
    {
     "data": {
      "image/png": "[encoded data removed]",
      "text/plain": [
       "<Figure size 432x288 with 1 Axes>"
      ]
     },
     "metadata": {
      "needs_background": "light"
     },
     "output_type": "display_data"
    },
    {
     "data": {
      "image/png": "[encoded data removed]",
      "text/plain": [
       "<Figure size 432x288 with 1 Axes>"
      ]
     },
     "metadata": {
      "needs_background": "light"
     },
     "output_type": "display_data"
    }
   ],
   "source": [
    "features = ['gender', 'job_industry_category', 'wealth_segment', 'owns_car', 'state', 'property_valuation']\n",
    "plot_distributions(new_customers[features])"
   ]
  },
  {
   "cell_type": "code",
   "execution_count": 52,
   "metadata": {
    "scrolled": false
   },
   "outputs": [
    {
     "data": {
      "image/png": "[encoded data removed]",
      "text/plain": [
       "<Figure size 432x288 with 1 Axes>"
      ]
     },
     "metadata": {
      "needs_background": "light"
     },
     "output_type": "display_data"
    },
    {
     "data": {
      "image/png": "[encoded data removed]",
      "text/plain": [
       "<Figure size 432x288 with 1 Axes>"
      ]
     },
     "metadata": {
      "needs_background": "light"
     },
     "output_type": "display_data"
    },
    {
     "data": {
      "image/png": "[encoded data removed]",
      "text/plain": [
       "<Figure size 432x288 with 1 Axes>"
      ]
     },
     "metadata": {
      "needs_background": "light"
     },
     "output_type": "display_data"
    }
   ],
   "source": [
    "features = ['postcode', 'Rank']\n",
    "\n",
    "top10 = new_customers.job_title.value_counts().head(10)\n",
    "\n",
    "sns.barplot(y=top10.index, x=top10.values)\n",
    "plt.title('Top 10 Job Titles Purchasing Bikes')\n",
    "plt.xlabel('Count')\n",
    "plt.show()\n",
    "\n",
    "for i in features:\n",
    "    top10 = new_customers[i].value_counts().head(10)\n",
    "    \n",
    "    plt.subplots(nrows=1, ncols=1)\n",
    "    sns.barplot(x=top10.index, y=top10.values)\n",
    "    plt.title(f'Top 10 {i}s Purchasing Bikes')\n",
    "    plt.xlabel(f'{i}')\n",
    "    plt.xticks(rotation=0)\n",
    "    plt.ylabel('Count')\n",
    "    plt.show()"
   ]
  },
  {
   "cell_type": "markdown",
   "metadata": {},
   "source": [
    "Once again, we see the following issues:\n",
    "- Property values are not in the same integer formats (ie. some values are written as 10.00 or 10 and they are being recognized as two individual data points). We will need to standardize the formatting on this. We also need to clarify what the unit of measurement is for the property value. Is this in the hundreds of thousands or millions?\n",
    "- As stated above under customer demographics, it is unclear what rank and value are meant to represent\n",
    "- Gender is also inconsistent and has different formats for Male/M and Female/F. We will need to standardize this as well.\n",
    "- Job industry is also missing data or is not applicable.\n"
   ]
  },
  {
   "cell_type": "markdown",
   "metadata": {},
   "source": [
    "While there are quite a bit of issues on each table, we can reformat a lot of this information to be more consistent. We would just need Sprocket to elaborate and provide more information on some of the items described above."
   ]
  }
 ],
 "metadata": {
  "kernelspec": {
   "display_name": "Python 3",
   "language": "python",
   "name": "python3"
  },
  "language_info": {
   "codemirror_mode": {
    "name": "ipython",
    "version": 3
   },
   "file_extension": ".py",
   "mimetype": "text/x-python",
   "name": "python",
   "nbconvert_exporter": "python",
   "pygments_lexer": "ipython3",
   "version": "3.8.5"
  }
 },
 "nbformat": 4,
 "nbformat_minor": 4
}
